{
 "cells": [
  {
   "cell_type": "markdown",
   "id": "a0e7c90e",
   "metadata": {},
   "source": [
    "# Broadband and Neighborhoods in NYC\n",
    "- EDA on Neighborhood Tabulation Areas (NTA) and broadband access"
   ]
  },
  {
   "cell_type": "code",
   "execution_count": 184,
   "id": "fc23be3d",
   "metadata": {
    "ExecuteTime": {
     "end_time": "2021-07-27T22:14:14.139155Z",
     "start_time": "2021-07-27T22:14:14.135086Z"
    }
   },
   "outputs": [],
   "source": [
    "import numpy as np\n",
    "import pandas as pd\n",
    "import geopandas as gpd\n",
    "import plotly.express as px\n",
    "import plotly.graph_objects as go\n",
    "import matplotlib.pyplot as plt\n",
    "import seaborn as sns\n",
    "import re\n",
    "\n",
    "pd.set_option('display.max_columns', 100)"
   ]
  },
  {
   "cell_type": "markdown",
   "id": "11365e54",
   "metadata": {},
   "source": [
    "## Preparing NTA Demographic Data\n",
    "**Data:** [NYC Open Data - Demographic Profiles of ACS 5 Year Estimates at the Neighborhood Tabulation Area (NTA) level (2016)](https://data.cityofnewyork.us/City-Government/Demographic-Profiles-of-ACS-5-Year-Estimates-at-th/8cwr-7pqn)"
   ]
  },
  {
   "cell_type": "code",
   "execution_count": 2,
   "id": "f872cb9a",
   "metadata": {
    "ExecuteTime": {
     "end_time": "2021-07-22T21:25:38.246178Z",
     "start_time": "2021-07-22T21:25:35.908558Z"
    }
   },
   "outputs": [],
   "source": [
    "demo = pd.read_excel('./data/nta_demo_2016.xlsx')"
   ]
  },
  {
   "cell_type": "code",
   "execution_count": 116,
   "id": "respiratory-transport",
   "metadata": {
    "ExecuteTime": {
     "end_time": "2021-07-27T21:32:06.403603Z",
     "start_time": "2021-07-27T21:32:06.344562Z"
    }
   },
   "outputs": [
    {
     "data": {
      "text/html": [
       "<div>\n",
       "<style scoped>\n",
       "    .dataframe tbody tr th:only-of-type {\n",
       "        vertical-align: middle;\n",
       "    }\n",
       "\n",
       "    .dataframe tbody tr th {\n",
       "        vertical-align: top;\n",
       "    }\n",
       "\n",
       "    .dataframe thead th {\n",
       "        text-align: right;\n",
       "    }\n",
       "</style>\n",
       "<table border=\"1\" class=\"dataframe\">\n",
       "  <thead>\n",
       "    <tr style=\"text-align: right;\">\n",
       "      <th></th>\n",
       "      <th>Neighborhood</th>\n",
       "      <th>GeoID</th>\n",
       "      <th>Borough</th>\n",
       "      <th>Male</th>\n",
       "      <th>Female</th>\n",
       "      <th>MdAgeE</th>\n",
       "      <th>PopU5</th>\n",
       "      <th>Pop5t9</th>\n",
       "      <th>Pop10t14</th>\n",
       "      <th>Pop15t19</th>\n",
       "      <th>Pop20t24</th>\n",
       "      <th>Pop25t29</th>\n",
       "      <th>Pop30t34</th>\n",
       "      <th>Pop35t39</th>\n",
       "      <th>Pop40t44</th>\n",
       "      <th>Pop45t49</th>\n",
       "      <th>Pop50t54</th>\n",
       "      <th>Pop55t59</th>\n",
       "      <th>Pop60t64</th>\n",
       "      <th>Pop65t69</th>\n",
       "      <th>Pop70t74</th>\n",
       "      <th>Pop75t79</th>\n",
       "      <th>Pop80t84</th>\n",
       "      <th>Pop85pl</th>\n",
       "      <th>PopU181</th>\n",
       "      <th>Pop65pl1</th>\n",
       "      <th>PopU18M</th>\n",
       "      <th>PopU18F</th>\n",
       "      <th>Pop65plM</th>\n",
       "      <th>Pop65plF</th>\n",
       "      <th>Hsp1</th>\n",
       "      <th>WtNH</th>\n",
       "      <th>BlNH</th>\n",
       "      <th>AIANNH</th>\n",
       "      <th>AsnNH</th>\n",
       "      <th>NHPINH</th>\n",
       "      <th>OthNH</th>\n",
       "      <th>Rc2plNH</th>\n",
       "      <th>HspMe</th>\n",
       "      <th>HspPR</th>\n",
       "      <th>HspCub</th>\n",
       "      <th>HspDom</th>\n",
       "      <th>HspCAm</th>\n",
       "      <th>HspSAm</th>\n",
       "      <th>HspOth</th>\n",
       "      <th>Asn1Rc</th>\n",
       "      <th>AsnEast</th>\n",
       "      <th>AsnSouth</th>\n",
       "      <th>AsnSEast</th>\n",
       "      <th>AsnOAsn</th>\n",
       "      <th>Asn2pl</th>\n",
       "    </tr>\n",
       "  </thead>\n",
       "  <tbody>\n",
       "    <tr>\n",
       "      <th>0</th>\n",
       "      <td>Bath Beach</td>\n",
       "      <td>BK27</td>\n",
       "      <td>Brooklyn</td>\n",
       "      <td>0.503</td>\n",
       "      <td>0.497</td>\n",
       "      <td>38.3</td>\n",
       "      <td>0.067</td>\n",
       "      <td>0.055</td>\n",
       "      <td>0.058</td>\n",
       "      <td>0.050</td>\n",
       "      <td>0.052</td>\n",
       "      <td>0.086</td>\n",
       "      <td>0.084</td>\n",
       "      <td>0.074</td>\n",
       "      <td>0.074</td>\n",
       "      <td>0.067</td>\n",
       "      <td>0.064</td>\n",
       "      <td>0.065</td>\n",
       "      <td>0.058</td>\n",
       "      <td>0.043</td>\n",
       "      <td>0.031</td>\n",
       "      <td>0.024</td>\n",
       "      <td>0.024</td>\n",
       "      <td>0.025</td>\n",
       "      <td>0.214</td>\n",
       "      <td>0.147</td>\n",
       "      <td>0.566</td>\n",
       "      <td>0.434</td>\n",
       "      <td>0.431</td>\n",
       "      <td>0.569</td>\n",
       "      <td>0.177</td>\n",
       "      <td>0.437</td>\n",
       "      <td>0.012</td>\n",
       "      <td>0.000</td>\n",
       "      <td>0.361</td>\n",
       "      <td>0.001</td>\n",
       "      <td>0.002</td>\n",
       "      <td>0.010</td>\n",
       "      <td>0.228</td>\n",
       "      <td>0.293</td>\n",
       "      <td>0.022</td>\n",
       "      <td>0.040</td>\n",
       "      <td>0.230</td>\n",
       "      <td>0.149</td>\n",
       "      <td>0.039</td>\n",
       "      <td>1.0</td>\n",
       "      <td>0.855</td>\n",
       "      <td>0.097</td>\n",
       "      <td>0.032</td>\n",
       "      <td>0.004</td>\n",
       "      <td>0.013</td>\n",
       "    </tr>\n",
       "    <tr>\n",
       "      <th>1</th>\n",
       "      <td>Bay Ridge</td>\n",
       "      <td>BK31</td>\n",
       "      <td>Brooklyn</td>\n",
       "      <td>0.478</td>\n",
       "      <td>0.522</td>\n",
       "      <td>39.5</td>\n",
       "      <td>0.065</td>\n",
       "      <td>0.057</td>\n",
       "      <td>0.043</td>\n",
       "      <td>0.045</td>\n",
       "      <td>0.055</td>\n",
       "      <td>0.086</td>\n",
       "      <td>0.087</td>\n",
       "      <td>0.069</td>\n",
       "      <td>0.069</td>\n",
       "      <td>0.071</td>\n",
       "      <td>0.075</td>\n",
       "      <td>0.062</td>\n",
       "      <td>0.060</td>\n",
       "      <td>0.051</td>\n",
       "      <td>0.038</td>\n",
       "      <td>0.027</td>\n",
       "      <td>0.021</td>\n",
       "      <td>0.020</td>\n",
       "      <td>0.191</td>\n",
       "      <td>0.156</td>\n",
       "      <td>0.485</td>\n",
       "      <td>0.515</td>\n",
       "      <td>0.396</td>\n",
       "      <td>0.604</td>\n",
       "      <td>0.179</td>\n",
       "      <td>0.634</td>\n",
       "      <td>0.019</td>\n",
       "      <td>0.002</td>\n",
       "      <td>0.146</td>\n",
       "      <td>0.000</td>\n",
       "      <td>0.002</td>\n",
       "      <td>0.018</td>\n",
       "      <td>0.223</td>\n",
       "      <td>0.420</td>\n",
       "      <td>0.034</td>\n",
       "      <td>0.065</td>\n",
       "      <td>0.064</td>\n",
       "      <td>0.162</td>\n",
       "      <td>0.032</td>\n",
       "      <td>1.0</td>\n",
       "      <td>0.770</td>\n",
       "      <td>0.165</td>\n",
       "      <td>0.047</td>\n",
       "      <td>0.010</td>\n",
       "      <td>0.008</td>\n",
       "    </tr>\n",
       "    <tr>\n",
       "      <th>2</th>\n",
       "      <td>Bedford</td>\n",
       "      <td>BK75</td>\n",
       "      <td>Brooklyn</td>\n",
       "      <td>0.484</td>\n",
       "      <td>0.516</td>\n",
       "      <td>29.1</td>\n",
       "      <td>0.099</td>\n",
       "      <td>0.087</td>\n",
       "      <td>0.071</td>\n",
       "      <td>0.062</td>\n",
       "      <td>0.086</td>\n",
       "      <td>0.115</td>\n",
       "      <td>0.093</td>\n",
       "      <td>0.074</td>\n",
       "      <td>0.058</td>\n",
       "      <td>0.048</td>\n",
       "      <td>0.048</td>\n",
       "      <td>0.046</td>\n",
       "      <td>0.036</td>\n",
       "      <td>0.024</td>\n",
       "      <td>0.021</td>\n",
       "      <td>0.014</td>\n",
       "      <td>0.012</td>\n",
       "      <td>0.007</td>\n",
       "      <td>0.297</td>\n",
       "      <td>0.077</td>\n",
       "      <td>0.546</td>\n",
       "      <td>0.454</td>\n",
       "      <td>0.384</td>\n",
       "      <td>0.616</td>\n",
       "      <td>0.195</td>\n",
       "      <td>0.351</td>\n",
       "      <td>0.406</td>\n",
       "      <td>0.001</td>\n",
       "      <td>0.030</td>\n",
       "      <td>NaN</td>\n",
       "      <td>0.002</td>\n",
       "      <td>0.015</td>\n",
       "      <td>0.083</td>\n",
       "      <td>0.434</td>\n",
       "      <td>0.018</td>\n",
       "      <td>0.298</td>\n",
       "      <td>0.055</td>\n",
       "      <td>0.068</td>\n",
       "      <td>0.044</td>\n",
       "      <td>1.0</td>\n",
       "      <td>0.420</td>\n",
       "      <td>0.410</td>\n",
       "      <td>0.135</td>\n",
       "      <td>0.011</td>\n",
       "      <td>0.024</td>\n",
       "    </tr>\n",
       "  </tbody>\n",
       "</table>\n",
       "</div>"
      ],
      "text/plain": [
       "  Neighborhood GeoID   Borough   Male  Female  MdAgeE  PopU5  Pop5t9  \\\n",
       "0   Bath Beach  BK27  Brooklyn  0.503   0.497    38.3  0.067   0.055   \n",
       "1    Bay Ridge  BK31  Brooklyn  0.478   0.522    39.5  0.065   0.057   \n",
       "2      Bedford  BK75  Brooklyn  0.484   0.516    29.1  0.099   0.087   \n",
       "\n",
       "   Pop10t14  Pop15t19  Pop20t24  Pop25t29  Pop30t34  Pop35t39  Pop40t44  \\\n",
       "0     0.058     0.050     0.052     0.086     0.084     0.074     0.074   \n",
       "1     0.043     0.045     0.055     0.086     0.087     0.069     0.069   \n",
       "2     0.071     0.062     0.086     0.115     0.093     0.074     0.058   \n",
       "\n",
       "   Pop45t49  Pop50t54  Pop55t59  Pop60t64  Pop65t69  Pop70t74  Pop75t79  \\\n",
       "0     0.067     0.064     0.065     0.058     0.043     0.031     0.024   \n",
       "1     0.071     0.075     0.062     0.060     0.051     0.038     0.027   \n",
       "2     0.048     0.048     0.046     0.036     0.024     0.021     0.014   \n",
       "\n",
       "   Pop80t84  Pop85pl  PopU181  Pop65pl1  PopU18M  PopU18F  Pop65plM  Pop65plF  \\\n",
       "0     0.024    0.025    0.214     0.147    0.566    0.434     0.431     0.569   \n",
       "1     0.021    0.020    0.191     0.156    0.485    0.515     0.396     0.604   \n",
       "2     0.012    0.007    0.297     0.077    0.546    0.454     0.384     0.616   \n",
       "\n",
       "    Hsp1   WtNH   BlNH  AIANNH  AsnNH  NHPINH  OthNH  Rc2plNH  HspMe  HspPR  \\\n",
       "0  0.177  0.437  0.012   0.000  0.361   0.001  0.002    0.010  0.228  0.293   \n",
       "1  0.179  0.634  0.019   0.002  0.146   0.000  0.002    0.018  0.223  0.420   \n",
       "2  0.195  0.351  0.406   0.001  0.030     NaN  0.002    0.015  0.083  0.434   \n",
       "\n",
       "   HspCub  HspDom  HspCAm  HspSAm  HspOth  Asn1Rc  AsnEast  AsnSouth  \\\n",
       "0   0.022   0.040   0.230   0.149   0.039     1.0    0.855     0.097   \n",
       "1   0.034   0.065   0.064   0.162   0.032     1.0    0.770     0.165   \n",
       "2   0.018   0.298   0.055   0.068   0.044     1.0    0.420     0.410   \n",
       "\n",
       "   AsnSEast  AsnOAsn  Asn2pl  \n",
       "0     0.032    0.004   0.013  \n",
       "1     0.047    0.010   0.008  \n",
       "2     0.135    0.011   0.024  "
      ]
     },
     "execution_count": 116,
     "metadata": {},
     "output_type": "execute_result"
    }
   ],
   "source": [
    "demo.head(3)"
   ]
  },
  {
   "cell_type": "code",
   "execution_count": 3,
   "id": "caa669e6",
   "metadata": {
    "ExecuteTime": {
     "end_time": "2021-07-22T21:25:38.254632Z",
     "start_time": "2021-07-22T21:25:38.248832Z"
    }
   },
   "outputs": [],
   "source": [
    "# Set relevant columns\n",
    "geo = ['GeogName', 'GeoID', 'Borough']\n",
    "misc = ['MaleP', 'FemP', 'MdAgeE']\n",
    "pct = [\n",
    "    col for col in demo.columns\n",
    "    if col[-1] == 'P'\n",
    "]\n",
    "age = [\n",
    "    col for col in pct\n",
    "    if (col[:3] == 'Pop')\n",
    "    and (col[-2] != '2')\n",
    "]\n",
    "race = [\n",
    "    'Hsp1P', 'WtNHP', 'BlNHP', 'AIANNHP', 'AsnNHP', 'NHPINHP', 'OthNHP', 'Rc2plNHP',\n",
    "    'HspMeP', 'HspPRP', 'HspCubP', 'HspDomP', 'HspCAmP', 'HspSAmP', 'HspOthP',\n",
    "    'Asn1RcP', 'AsnEastP', 'AsnSouthP', 'AsnSEastP', 'AsnOAsnP', 'Asn2plP'\n",
    "]\n",
    "cols = geo + misc + age + race"
   ]
  },
  {
   "cell_type": "code",
   "execution_count": 4,
   "id": "9d68bddb",
   "metadata": {
    "ExecuteTime": {
     "end_time": "2021-07-22T21:25:38.266738Z",
     "start_time": "2021-07-22T21:25:38.257450Z"
    }
   },
   "outputs": [],
   "source": [
    "# Keep relevant columns\n",
    "demo = demo[cols]\n",
    "demo.columns = [ col if col[-1] != 'P' else col[:-1] for col in demo.columns.tolist() ]\n",
    "demo.drop(\n",
    "    columns=['Pop_1'],\n",
    "    inplace=True\n",
    ")"
   ]
  },
  {
   "cell_type": "code",
   "execution_count": 5,
   "id": "e03db39a",
   "metadata": {
    "ExecuteTime": {
     "end_time": "2021-07-22T21:25:38.296620Z",
     "start_time": "2021-07-22T21:25:38.270890Z"
    }
   },
   "outputs": [],
   "source": [
    "# Clean and prepare columns names for merge\n",
    "demo.rename(\n",
    "    columns={'GeogName': 'Neighborhood', 'Fem': 'Female'},\n",
    "    inplace=True\n",
    ")\n",
    "for col in demo.columns.tolist():\n",
    "    if col not in ['Neighborhood', 'GeoID', 'Borough', 'MdAgeE']:\n",
    "        demo[col] = demo[col] / 100"
   ]
  },
  {
   "cell_type": "code",
   "execution_count": 6,
   "id": "6c1fb52c",
   "metadata": {
    "ExecuteTime": {
     "end_time": "2021-07-22T21:25:38.365481Z",
     "start_time": "2021-07-22T21:25:38.299408Z"
    }
   },
   "outputs": [
    {
     "data": {
      "text/html": [
       "<div>\n",
       "<style scoped>\n",
       "    .dataframe tbody tr th:only-of-type {\n",
       "        vertical-align: middle;\n",
       "    }\n",
       "\n",
       "    .dataframe tbody tr th {\n",
       "        vertical-align: top;\n",
       "    }\n",
       "\n",
       "    .dataframe thead th {\n",
       "        text-align: right;\n",
       "    }\n",
       "</style>\n",
       "<table border=\"1\" class=\"dataframe\">\n",
       "  <thead>\n",
       "    <tr style=\"text-align: right;\">\n",
       "      <th></th>\n",
       "      <th>Neighborhood</th>\n",
       "      <th>GeoID</th>\n",
       "      <th>Borough</th>\n",
       "      <th>Male</th>\n",
       "      <th>Female</th>\n",
       "      <th>MdAgeE</th>\n",
       "      <th>PopU5</th>\n",
       "      <th>Pop5t9</th>\n",
       "      <th>Pop10t14</th>\n",
       "      <th>Pop15t19</th>\n",
       "      <th>Pop20t24</th>\n",
       "      <th>Pop25t29</th>\n",
       "      <th>Pop30t34</th>\n",
       "      <th>Pop35t39</th>\n",
       "      <th>Pop40t44</th>\n",
       "      <th>Pop45t49</th>\n",
       "      <th>Pop50t54</th>\n",
       "      <th>Pop55t59</th>\n",
       "      <th>Pop60t64</th>\n",
       "      <th>Pop65t69</th>\n",
       "      <th>Pop70t74</th>\n",
       "      <th>Pop75t79</th>\n",
       "      <th>Pop80t84</th>\n",
       "      <th>Pop85pl</th>\n",
       "      <th>PopU181</th>\n",
       "      <th>Pop65pl1</th>\n",
       "      <th>PopU18M</th>\n",
       "      <th>PopU18F</th>\n",
       "      <th>Pop65plM</th>\n",
       "      <th>Pop65plF</th>\n",
       "      <th>Hsp1</th>\n",
       "      <th>WtNH</th>\n",
       "      <th>BlNH</th>\n",
       "      <th>AIANNH</th>\n",
       "      <th>AsnNH</th>\n",
       "      <th>NHPINH</th>\n",
       "      <th>OthNH</th>\n",
       "      <th>Rc2plNH</th>\n",
       "      <th>HspMe</th>\n",
       "      <th>HspPR</th>\n",
       "      <th>HspCub</th>\n",
       "      <th>HspDom</th>\n",
       "      <th>HspCAm</th>\n",
       "      <th>HspSAm</th>\n",
       "      <th>HspOth</th>\n",
       "      <th>Asn1Rc</th>\n",
       "      <th>AsnEast</th>\n",
       "      <th>AsnSouth</th>\n",
       "      <th>AsnSEast</th>\n",
       "      <th>AsnOAsn</th>\n",
       "      <th>Asn2pl</th>\n",
       "    </tr>\n",
       "  </thead>\n",
       "  <tbody>\n",
       "    <tr>\n",
       "      <th>0</th>\n",
       "      <td>Bath Beach</td>\n",
       "      <td>BK27</td>\n",
       "      <td>Brooklyn</td>\n",
       "      <td>0.503</td>\n",
       "      <td>0.497</td>\n",
       "      <td>38.3</td>\n",
       "      <td>0.067</td>\n",
       "      <td>0.055</td>\n",
       "      <td>0.058</td>\n",
       "      <td>0.050</td>\n",
       "      <td>0.052</td>\n",
       "      <td>0.086</td>\n",
       "      <td>0.084</td>\n",
       "      <td>0.074</td>\n",
       "      <td>0.074</td>\n",
       "      <td>0.067</td>\n",
       "      <td>0.064</td>\n",
       "      <td>0.065</td>\n",
       "      <td>0.058</td>\n",
       "      <td>0.043</td>\n",
       "      <td>0.031</td>\n",
       "      <td>0.024</td>\n",
       "      <td>0.024</td>\n",
       "      <td>0.025</td>\n",
       "      <td>0.214</td>\n",
       "      <td>0.147</td>\n",
       "      <td>0.566</td>\n",
       "      <td>0.434</td>\n",
       "      <td>0.431</td>\n",
       "      <td>0.569</td>\n",
       "      <td>0.177</td>\n",
       "      <td>0.437</td>\n",
       "      <td>0.012</td>\n",
       "      <td>0.000</td>\n",
       "      <td>0.361</td>\n",
       "      <td>0.001</td>\n",
       "      <td>0.002</td>\n",
       "      <td>0.010</td>\n",
       "      <td>0.228</td>\n",
       "      <td>0.293</td>\n",
       "      <td>0.022</td>\n",
       "      <td>0.040</td>\n",
       "      <td>0.230</td>\n",
       "      <td>0.149</td>\n",
       "      <td>0.039</td>\n",
       "      <td>1.0</td>\n",
       "      <td>0.855</td>\n",
       "      <td>0.097</td>\n",
       "      <td>0.032</td>\n",
       "      <td>0.004</td>\n",
       "      <td>0.013</td>\n",
       "    </tr>\n",
       "    <tr>\n",
       "      <th>1</th>\n",
       "      <td>Bay Ridge</td>\n",
       "      <td>BK31</td>\n",
       "      <td>Brooklyn</td>\n",
       "      <td>0.478</td>\n",
       "      <td>0.522</td>\n",
       "      <td>39.5</td>\n",
       "      <td>0.065</td>\n",
       "      <td>0.057</td>\n",
       "      <td>0.043</td>\n",
       "      <td>0.045</td>\n",
       "      <td>0.055</td>\n",
       "      <td>0.086</td>\n",
       "      <td>0.087</td>\n",
       "      <td>0.069</td>\n",
       "      <td>0.069</td>\n",
       "      <td>0.071</td>\n",
       "      <td>0.075</td>\n",
       "      <td>0.062</td>\n",
       "      <td>0.060</td>\n",
       "      <td>0.051</td>\n",
       "      <td>0.038</td>\n",
       "      <td>0.027</td>\n",
       "      <td>0.021</td>\n",
       "      <td>0.020</td>\n",
       "      <td>0.191</td>\n",
       "      <td>0.156</td>\n",
       "      <td>0.485</td>\n",
       "      <td>0.515</td>\n",
       "      <td>0.396</td>\n",
       "      <td>0.604</td>\n",
       "      <td>0.179</td>\n",
       "      <td>0.634</td>\n",
       "      <td>0.019</td>\n",
       "      <td>0.002</td>\n",
       "      <td>0.146</td>\n",
       "      <td>0.000</td>\n",
       "      <td>0.002</td>\n",
       "      <td>0.018</td>\n",
       "      <td>0.223</td>\n",
       "      <td>0.420</td>\n",
       "      <td>0.034</td>\n",
       "      <td>0.065</td>\n",
       "      <td>0.064</td>\n",
       "      <td>0.162</td>\n",
       "      <td>0.032</td>\n",
       "      <td>1.0</td>\n",
       "      <td>0.770</td>\n",
       "      <td>0.165</td>\n",
       "      <td>0.047</td>\n",
       "      <td>0.010</td>\n",
       "      <td>0.008</td>\n",
       "    </tr>\n",
       "    <tr>\n",
       "      <th>2</th>\n",
       "      <td>Bedford</td>\n",
       "      <td>BK75</td>\n",
       "      <td>Brooklyn</td>\n",
       "      <td>0.484</td>\n",
       "      <td>0.516</td>\n",
       "      <td>29.1</td>\n",
       "      <td>0.099</td>\n",
       "      <td>0.087</td>\n",
       "      <td>0.071</td>\n",
       "      <td>0.062</td>\n",
       "      <td>0.086</td>\n",
       "      <td>0.115</td>\n",
       "      <td>0.093</td>\n",
       "      <td>0.074</td>\n",
       "      <td>0.058</td>\n",
       "      <td>0.048</td>\n",
       "      <td>0.048</td>\n",
       "      <td>0.046</td>\n",
       "      <td>0.036</td>\n",
       "      <td>0.024</td>\n",
       "      <td>0.021</td>\n",
       "      <td>0.014</td>\n",
       "      <td>0.012</td>\n",
       "      <td>0.007</td>\n",
       "      <td>0.297</td>\n",
       "      <td>0.077</td>\n",
       "      <td>0.546</td>\n",
       "      <td>0.454</td>\n",
       "      <td>0.384</td>\n",
       "      <td>0.616</td>\n",
       "      <td>0.195</td>\n",
       "      <td>0.351</td>\n",
       "      <td>0.406</td>\n",
       "      <td>0.001</td>\n",
       "      <td>0.030</td>\n",
       "      <td>NaN</td>\n",
       "      <td>0.002</td>\n",
       "      <td>0.015</td>\n",
       "      <td>0.083</td>\n",
       "      <td>0.434</td>\n",
       "      <td>0.018</td>\n",
       "      <td>0.298</td>\n",
       "      <td>0.055</td>\n",
       "      <td>0.068</td>\n",
       "      <td>0.044</td>\n",
       "      <td>1.0</td>\n",
       "      <td>0.420</td>\n",
       "      <td>0.410</td>\n",
       "      <td>0.135</td>\n",
       "      <td>0.011</td>\n",
       "      <td>0.024</td>\n",
       "    </tr>\n",
       "  </tbody>\n",
       "</table>\n",
       "</div>"
      ],
      "text/plain": [
       "  Neighborhood GeoID   Borough   Male  Female  MdAgeE  PopU5  Pop5t9  \\\n",
       "0   Bath Beach  BK27  Brooklyn  0.503   0.497    38.3  0.067   0.055   \n",
       "1    Bay Ridge  BK31  Brooklyn  0.478   0.522    39.5  0.065   0.057   \n",
       "2      Bedford  BK75  Brooklyn  0.484   0.516    29.1  0.099   0.087   \n",
       "\n",
       "   Pop10t14  Pop15t19  Pop20t24  Pop25t29  Pop30t34  Pop35t39  Pop40t44  \\\n",
       "0     0.058     0.050     0.052     0.086     0.084     0.074     0.074   \n",
       "1     0.043     0.045     0.055     0.086     0.087     0.069     0.069   \n",
       "2     0.071     0.062     0.086     0.115     0.093     0.074     0.058   \n",
       "\n",
       "   Pop45t49  Pop50t54  Pop55t59  Pop60t64  Pop65t69  Pop70t74  Pop75t79  \\\n",
       "0     0.067     0.064     0.065     0.058     0.043     0.031     0.024   \n",
       "1     0.071     0.075     0.062     0.060     0.051     0.038     0.027   \n",
       "2     0.048     0.048     0.046     0.036     0.024     0.021     0.014   \n",
       "\n",
       "   Pop80t84  Pop85pl  PopU181  Pop65pl1  PopU18M  PopU18F  Pop65plM  Pop65plF  \\\n",
       "0     0.024    0.025    0.214     0.147    0.566    0.434     0.431     0.569   \n",
       "1     0.021    0.020    0.191     0.156    0.485    0.515     0.396     0.604   \n",
       "2     0.012    0.007    0.297     0.077    0.546    0.454     0.384     0.616   \n",
       "\n",
       "    Hsp1   WtNH   BlNH  AIANNH  AsnNH  NHPINH  OthNH  Rc2plNH  HspMe  HspPR  \\\n",
       "0  0.177  0.437  0.012   0.000  0.361   0.001  0.002    0.010  0.228  0.293   \n",
       "1  0.179  0.634  0.019   0.002  0.146   0.000  0.002    0.018  0.223  0.420   \n",
       "2  0.195  0.351  0.406   0.001  0.030     NaN  0.002    0.015  0.083  0.434   \n",
       "\n",
       "   HspCub  HspDom  HspCAm  HspSAm  HspOth  Asn1Rc  AsnEast  AsnSouth  \\\n",
       "0   0.022   0.040   0.230   0.149   0.039     1.0    0.855     0.097   \n",
       "1   0.034   0.065   0.064   0.162   0.032     1.0    0.770     0.165   \n",
       "2   0.018   0.298   0.055   0.068   0.044     1.0    0.420     0.410   \n",
       "\n",
       "   AsnSEast  AsnOAsn  Asn2pl  \n",
       "0     0.032    0.004   0.013  \n",
       "1     0.047    0.010   0.008  \n",
       "2     0.135    0.011   0.024  "
      ]
     },
     "execution_count": 6,
     "metadata": {},
     "output_type": "execute_result"
    }
   ],
   "source": [
    "demo.head(3)"
   ]
  },
  {
   "cell_type": "markdown",
   "id": "ce882799",
   "metadata": {},
   "source": [
    "## Preparing NTA Broadband Data\n",
    "**Data:** [NYC Open Data - Internet Master Plan: Adoption and Infrastructure Data by Neighborhood (2021)](https://data.cityofnewyork.us/City-Government/Internet-Master-Plan-Adoption-and-Infrastructure-D/fg5j-q5nk)"
   ]
  },
  {
   "cell_type": "code",
   "execution_count": 7,
   "id": "b0e4c5eb",
   "metadata": {
    "ExecuteTime": {
     "end_time": "2021-07-22T21:25:43.645243Z",
     "start_time": "2021-07-22T21:25:43.642218Z"
    }
   },
   "outputs": [],
   "source": [
    "import urllib\n",
    "import json"
   ]
  },
  {
   "cell_type": "code",
   "execution_count": 8,
   "id": "9585df10",
   "metadata": {
    "ExecuteTime": {
     "end_time": "2021-07-22T21:25:45.685548Z",
     "start_time": "2021-07-22T21:25:45.049354Z"
    }
   },
   "outputs": [],
   "source": [
    "r = urllib.request.urlopen('https://data.cityofnewyork.us/resource/fg5j-q5nk.json')\n",
    "json_dict = json.load(r)\n",
    "bb = pd.DataFrame(json_dict)\n",
    "\n",
    "bb.rename(columns={'neighborhood_tabulation_area': 'GeoID'}, inplace=True)\n",
    "bb.drop(columns=['neighborhood_tabulation_area_1', 'borough_name'], inplace=True)"
   ]
  },
  {
   "cell_type": "code",
   "execution_count": 9,
   "id": "english-religious",
   "metadata": {
    "ExecuteTime": {
     "end_time": "2021-07-22T21:25:47.811523Z",
     "start_time": "2021-07-22T21:25:47.753572Z"
    }
   },
   "outputs": [],
   "source": [
    "for col in bb.columns.tolist():\n",
    "    try:\n",
    "        bb[col] = bb[col].map(lambda x: int(x))\n",
    "    except:\n",
    "        try:\n",
    "            bb[col] = bb[col].map(lambda x: round(float(x), 4))\n",
    "        except:\n",
    "            pass"
   ]
  },
  {
   "cell_type": "code",
   "execution_count": 10,
   "id": "9ace4a8a",
   "metadata": {
    "ExecuteTime": {
     "end_time": "2021-07-22T21:25:48.520466Z",
     "start_time": "2021-07-22T21:25:48.451161Z"
    }
   },
   "outputs": [
    {
     "data": {
      "text/html": [
       "<div>\n",
       "<style scoped>\n",
       "    .dataframe tbody tr th:only-of-type {\n",
       "        vertical-align: middle;\n",
       "    }\n",
       "\n",
       "    .dataframe tbody tr th {\n",
       "        vertical-align: top;\n",
       "    }\n",
       "\n",
       "    .dataframe thead th {\n",
       "        text-align: right;\n",
       "    }\n",
       "</style>\n",
       "<table border=\"1\" class=\"dataframe\">\n",
       "  <thead>\n",
       "    <tr style=\"text-align: right;\">\n",
       "      <th></th>\n",
       "      <th>GeoID</th>\n",
       "      <th>total_population</th>\n",
       "      <th>population_density_per_sq</th>\n",
       "      <th>total_number_of_households</th>\n",
       "      <th>area_sq_mi</th>\n",
       "      <th>street_mileage</th>\n",
       "      <th>home_broadband_adoption</th>\n",
       "      <th>home_broadband_adoption_by</th>\n",
       "      <th>mobile_broadband_adoption</th>\n",
       "      <th>mobile_broadband_adoption_1</th>\n",
       "      <th>mobile_dependent_households</th>\n",
       "      <th>mobile_dependent_households_1</th>\n",
       "      <th>residential_broadband_choice</th>\n",
       "      <th>residential_broadband_choice_1</th>\n",
       "      <th>commercial_fiber_isp_choice</th>\n",
       "      <th>commercial_fiber_choice</th>\n",
       "      <th>commercial_fiber_max_isp</th>\n",
       "      <th>commercial_fiber_max_isp_1</th>\n",
       "      <th>percentage_of_blocks_without</th>\n",
       "      <th>percentage_of_blocks_without_1</th>\n",
       "      <th>percentage_of_blocks_with</th>\n",
       "      <th>percentage_of_blocks_with_1</th>\n",
       "      <th>number_of_public_computer</th>\n",
       "      <th>public_wi_fi_in_nyc_count</th>\n",
       "      <th>number_of_free_public_wi</th>\n",
       "      <th>available_free_public_wi</th>\n",
       "      <th>estimated_number_of_businesses</th>\n",
       "      <th>number_of_households</th>\n",
       "      <th>total_accounts</th>\n",
       "      <th>account_density</th>\n",
       "      <th>account_density_quartile</th>\n",
       "      <th>population_projections_2050</th>\n",
       "      <th>households_receiving_benefits</th>\n",
       "      <th>estimated_lifeline_eligible</th>\n",
       "      <th>supportive_housing_nycdhs</th>\n",
       "      <th>low_income_housing_nycha</th>\n",
       "      <th>presence_of_ibzs</th>\n",
       "      <th>number_of_nycha_buildings</th>\n",
       "      <th>number_of_public_schools</th>\n",
       "      <th>number_of_dcas_buildings</th>\n",
       "      <th>number_of_nyc_h_h_buildings</th>\n",
       "      <th>city_buildings_with_high</th>\n",
       "      <th>street_furniture_fdny_call</th>\n",
       "      <th>street_furniture_parking</th>\n",
       "      <th>street_furniture_bus_stop</th>\n",
       "      <th>street_furniture_bike_shelters</th>\n",
       "      <th>street_furniture_city_benches</th>\n",
       "      <th>linknyc_kiosks</th>\n",
       "      <th>poles_reserved_by_mobile</th>\n",
       "      <th>pole_with_equipment_installed</th>\n",
       "      <th>density_of_poles_reserved</th>\n",
       "      <th>mobile_telecom_franchise</th>\n",
       "      <th>empire_city_subway_coverage</th>\n",
       "      <th>empire_city_subway_coverage_1</th>\n",
       "      <th>percentage_of_households</th>\n",
       "      <th>number_of_fixed_wireless</th>\n",
       "      <th>estimated_aerial_plant</th>\n",
       "      <th>estimated_underground_plant</th>\n",
       "      <th>geographic_variations_in</th>\n",
       "      <th>estimated_underground_utility</th>\n",
       "      <th>utility_pole_make_ready</th>\n",
       "      <th>utility_pole_make_ready_1</th>\n",
       "      <th>nyc_internet_master_plan</th>\n",
       "      <th>nyc_internet_master_plan_1</th>\n",
       "      <th>fiber_drops_estimated_relative</th>\n",
       "      <th>indoor_cabling_for_multiple</th>\n",
       "      <th>optimal_for_unlicensed</th>\n",
       "      <th>percentage_optimal_for</th>\n",
       "      <th>estimated_number_of_radio</th>\n",
       "      <th>estimated_number_of_radio_1</th>\n",
       "      <th>sample_of_nta_field_surveyed</th>\n",
       "      <th>reviewed_for_underground</th>\n",
       "      <th>reviewed_for_aerial_fiber</th>\n",
       "      <th>reviewed_for_millimeter_wave</th>\n",
       "      <th>field_survey_findings</th>\n",
       "    </tr>\n",
       "  </thead>\n",
       "  <tbody>\n",
       "    <tr>\n",
       "      <th>0</th>\n",
       "      <td>BK09</td>\n",
       "      <td>23758</td>\n",
       "      <td>65994.44</td>\n",
       "      <td>11150</td>\n",
       "      <td>0.36</td>\n",
       "      <td>19</td>\n",
       "      <td>0.8640</td>\n",
       "      <td>High Connected</td>\n",
       "      <td>0.8820</td>\n",
       "      <td>High Connected</td>\n",
       "      <td>0.05</td>\n",
       "      <td>Low Connected</td>\n",
       "      <td>2.41</td>\n",
       "      <td>High</td>\n",
       "      <td>1.96</td>\n",
       "      <td>High</td>\n",
       "      <td>6</td>\n",
       "      <td>High</td>\n",
       "      <td>0.16</td>\n",
       "      <td>Medium High</td>\n",
       "      <td>1</td>\n",
       "      <td>1.00</td>\n",
       "      <td>2</td>\n",
       "      <td>27</td>\n",
       "      <td>20</td>\n",
       "      <td>1</td>\n",
       "      <td>3097.0</td>\n",
       "      <td>11150</td>\n",
       "      <td>14212.0</td>\n",
       "      <td>748.0</td>\n",
       "      <td>High</td>\n",
       "      <td>25509.0</td>\n",
       "      <td>42.0</td>\n",
       "      <td>225.0</td>\n",
       "      <td>0</td>\n",
       "      <td>0</td>\n",
       "      <td>0.0</td>\n",
       "      <td>0</td>\n",
       "      <td>2</td>\n",
       "      <td>3</td>\n",
       "      <td>0</td>\n",
       "      <td>High</td>\n",
       "      <td>23</td>\n",
       "      <td>65</td>\n",
       "      <td>6</td>\n",
       "      <td>0</td>\n",
       "      <td>10</td>\n",
       "      <td>5</td>\n",
       "      <td>8.0</td>\n",
       "      <td>24.0</td>\n",
       "      <td>1.68</td>\n",
       "      <td>High</td>\n",
       "      <td>0.0</td>\n",
       "      <td>N/A</td>\n",
       "      <td>0.25</td>\n",
       "      <td>2.0</td>\n",
       "      <td>0.00</td>\n",
       "      <td>0.88</td>\n",
       "      <td>Underground Network Areas</td>\n",
       "      <td>High</td>\n",
       "      <td>4.5</td>\n",
       "      <td>High</td>\n",
       "      <td>1.22</td>\n",
       "      <td>Medium High</td>\n",
       "      <td>High</td>\n",
       "      <td>Low</td>\n",
       "      <td>YES</td>\n",
       "      <td>0.37</td>\n",
       "      <td>174.0</td>\n",
       "      <td>39.0</td>\n",
       "      <td>NO</td>\n",
       "      <td>NO</td>\n",
       "      <td>NO</td>\n",
       "      <td>NO</td>\n",
       "      <td>NONE</td>\n",
       "    </tr>\n",
       "    <tr>\n",
       "      <th>1</th>\n",
       "      <td>BK17</td>\n",
       "      <td>65167</td>\n",
       "      <td>28707.93</td>\n",
       "      <td>25483</td>\n",
       "      <td>2.27</td>\n",
       "      <td>80</td>\n",
       "      <td>0.7729</td>\n",
       "      <td>Medium High Connected</td>\n",
       "      <td>0.7604</td>\n",
       "      <td>Low Connected</td>\n",
       "      <td>0.07</td>\n",
       "      <td>Medium Low Connected</td>\n",
       "      <td>1.82</td>\n",
       "      <td>Medium Low</td>\n",
       "      <td>1.07</td>\n",
       "      <td>Low</td>\n",
       "      <td>2</td>\n",
       "      <td>Low</td>\n",
       "      <td>0.20</td>\n",
       "      <td>High</td>\n",
       "      <td>1</td>\n",
       "      <td>0.76</td>\n",
       "      <td>4</td>\n",
       "      <td>18</td>\n",
       "      <td>2</td>\n",
       "      <td>1</td>\n",
       "      <td>2474.0</td>\n",
       "      <td>25483</td>\n",
       "      <td>28624.0</td>\n",
       "      <td>358.0</td>\n",
       "      <td>Medium Low</td>\n",
       "      <td>71948.0</td>\n",
       "      <td>711.0</td>\n",
       "      <td>3976.0</td>\n",
       "      <td>0</td>\n",
       "      <td>4710</td>\n",
       "      <td>0.0</td>\n",
       "      <td>7</td>\n",
       "      <td>14</td>\n",
       "      <td>8</td>\n",
       "      <td>0</td>\n",
       "      <td>High</td>\n",
       "      <td>61</td>\n",
       "      <td>122</td>\n",
       "      <td>35</td>\n",
       "      <td>0</td>\n",
       "      <td>7</td>\n",
       "      <td>0</td>\n",
       "      <td>11.0</td>\n",
       "      <td>25.0</td>\n",
       "      <td>0.45</td>\n",
       "      <td>Medium Low</td>\n",
       "      <td>0.0</td>\n",
       "      <td>N/A</td>\n",
       "      <td>1.00</td>\n",
       "      <td>1.0</td>\n",
       "      <td>0.96</td>\n",
       "      <td>0.53</td>\n",
       "      <td>Above and Underground Network</td>\n",
       "      <td>Average</td>\n",
       "      <td>4.0</td>\n",
       "      <td>Average</td>\n",
       "      <td>2.45</td>\n",
       "      <td>High</td>\n",
       "      <td>Average</td>\n",
       "      <td>Average</td>\n",
       "      <td>YES</td>\n",
       "      <td>0.25</td>\n",
       "      <td>86.0</td>\n",
       "      <td>29.0</td>\n",
       "      <td>NO</td>\n",
       "      <td>NO</td>\n",
       "      <td>NO</td>\n",
       "      <td>NO</td>\n",
       "      <td>NONE</td>\n",
       "    </tr>\n",
       "    <tr>\n",
       "      <th>2</th>\n",
       "      <td>BK19</td>\n",
       "      <td>34814</td>\n",
       "      <td>56151.61</td>\n",
       "      <td>14441</td>\n",
       "      <td>0.62</td>\n",
       "      <td>23</td>\n",
       "      <td>0.6653</td>\n",
       "      <td>Medium Low Connected</td>\n",
       "      <td>0.6880</td>\n",
       "      <td>Low Connected</td>\n",
       "      <td>0.08</td>\n",
       "      <td>Medium Low Connected</td>\n",
       "      <td>1.86</td>\n",
       "      <td>Medium Low</td>\n",
       "      <td>1.21</td>\n",
       "      <td>Low</td>\n",
       "      <td>3</td>\n",
       "      <td>Medium High</td>\n",
       "      <td>0.15</td>\n",
       "      <td>Medium High</td>\n",
       "      <td>1</td>\n",
       "      <td>0.79</td>\n",
       "      <td>3</td>\n",
       "      <td>1</td>\n",
       "      <td>1</td>\n",
       "      <td>1</td>\n",
       "      <td>2651.0</td>\n",
       "      <td>14441</td>\n",
       "      <td>17208.0</td>\n",
       "      <td>748.0</td>\n",
       "      <td>High</td>\n",
       "      <td>39608.0</td>\n",
       "      <td>523.0</td>\n",
       "      <td>2819.0</td>\n",
       "      <td>0</td>\n",
       "      <td>0</td>\n",
       "      <td>0.0</td>\n",
       "      <td>0</td>\n",
       "      <td>5</td>\n",
       "      <td>2</td>\n",
       "      <td>1</td>\n",
       "      <td>Medium Low</td>\n",
       "      <td>18</td>\n",
       "      <td>94</td>\n",
       "      <td>14</td>\n",
       "      <td>0</td>\n",
       "      <td>4</td>\n",
       "      <td>0</td>\n",
       "      <td>7.0</td>\n",
       "      <td>6.0</td>\n",
       "      <td>0.57</td>\n",
       "      <td>Medium Low</td>\n",
       "      <td>0.0</td>\n",
       "      <td>N/A</td>\n",
       "      <td>0.97</td>\n",
       "      <td>1.0</td>\n",
       "      <td>0.59</td>\n",
       "      <td>0.83</td>\n",
       "      <td>Above and Underground Network</td>\n",
       "      <td>High</td>\n",
       "      <td>4.5</td>\n",
       "      <td>High</td>\n",
       "      <td>1.43</td>\n",
       "      <td>High</td>\n",
       "      <td>High</td>\n",
       "      <td>Low</td>\n",
       "      <td>YES</td>\n",
       "      <td>0.62</td>\n",
       "      <td>56.0</td>\n",
       "      <td>8.0</td>\n",
       "      <td>NO</td>\n",
       "      <td>NO</td>\n",
       "      <td>NO</td>\n",
       "      <td>NO</td>\n",
       "      <td>NONE</td>\n",
       "    </tr>\n",
       "  </tbody>\n",
       "</table>\n",
       "</div>"
      ],
      "text/plain": [
       "  GeoID  total_population  population_density_per_sq  \\\n",
       "0  BK09             23758                   65994.44   \n",
       "1  BK17             65167                   28707.93   \n",
       "2  BK19             34814                   56151.61   \n",
       "\n",
       "   total_number_of_households  area_sq_mi  street_mileage  \\\n",
       "0                       11150        0.36              19   \n",
       "1                       25483        2.27              80   \n",
       "2                       14441        0.62              23   \n",
       "\n",
       "   home_broadband_adoption home_broadband_adoption_by  \\\n",
       "0                   0.8640             High Connected   \n",
       "1                   0.7729      Medium High Connected   \n",
       "2                   0.6653       Medium Low Connected   \n",
       "\n",
       "   mobile_broadband_adoption mobile_broadband_adoption_1  \\\n",
       "0                     0.8820              High Connected   \n",
       "1                     0.7604               Low Connected   \n",
       "2                     0.6880               Low Connected   \n",
       "\n",
       "   mobile_dependent_households mobile_dependent_households_1  \\\n",
       "0                         0.05                 Low Connected   \n",
       "1                         0.07          Medium Low Connected   \n",
       "2                         0.08          Medium Low Connected   \n",
       "\n",
       "   residential_broadband_choice residential_broadband_choice_1  \\\n",
       "0                          2.41                           High   \n",
       "1                          1.82                     Medium Low   \n",
       "2                          1.86                     Medium Low   \n",
       "\n",
       "   commercial_fiber_isp_choice commercial_fiber_choice  \\\n",
       "0                         1.96                    High   \n",
       "1                         1.07                     Low   \n",
       "2                         1.21                     Low   \n",
       "\n",
       "   commercial_fiber_max_isp commercial_fiber_max_isp_1  \\\n",
       "0                         6                       High   \n",
       "1                         2                        Low   \n",
       "2                         3                Medium High   \n",
       "\n",
       "   percentage_of_blocks_without percentage_of_blocks_without_1  \\\n",
       "0                          0.16                    Medium High   \n",
       "1                          0.20                           High   \n",
       "2                          0.15                    Medium High   \n",
       "\n",
       "   percentage_of_blocks_with  percentage_of_blocks_with_1  \\\n",
       "0                          1                         1.00   \n",
       "1                          1                         0.76   \n",
       "2                          1                         0.79   \n",
       "\n",
       "   number_of_public_computer  public_wi_fi_in_nyc_count  \\\n",
       "0                          2                         27   \n",
       "1                          4                         18   \n",
       "2                          3                          1   \n",
       "\n",
       "   number_of_free_public_wi  available_free_public_wi  \\\n",
       "0                        20                         1   \n",
       "1                         2                         1   \n",
       "2                         1                         1   \n",
       "\n",
       "   estimated_number_of_businesses  number_of_households  total_accounts  \\\n",
       "0                          3097.0                 11150         14212.0   \n",
       "1                          2474.0                 25483         28624.0   \n",
       "2                          2651.0                 14441         17208.0   \n",
       "\n",
       "   account_density account_density_quartile  population_projections_2050  \\\n",
       "0            748.0                     High                      25509.0   \n",
       "1            358.0               Medium Low                      71948.0   \n",
       "2            748.0                     High                      39608.0   \n",
       "\n",
       "   households_receiving_benefits  estimated_lifeline_eligible  \\\n",
       "0                           42.0                        225.0   \n",
       "1                          711.0                       3976.0   \n",
       "2                          523.0                       2819.0   \n",
       "\n",
       "   supportive_housing_nycdhs  low_income_housing_nycha  presence_of_ibzs  \\\n",
       "0                          0                         0               0.0   \n",
       "1                          0                      4710               0.0   \n",
       "2                          0                         0               0.0   \n",
       "\n",
       "   number_of_nycha_buildings  number_of_public_schools  \\\n",
       "0                          0                         2   \n",
       "1                          7                        14   \n",
       "2                          0                         5   \n",
       "\n",
       "   number_of_dcas_buildings  number_of_nyc_h_h_buildings  \\\n",
       "0                         3                            0   \n",
       "1                         8                            0   \n",
       "2                         2                            1   \n",
       "\n",
       "  city_buildings_with_high  street_furniture_fdny_call  \\\n",
       "0                     High                          23   \n",
       "1                     High                          61   \n",
       "2               Medium Low                          18   \n",
       "\n",
       "   street_furniture_parking  street_furniture_bus_stop  \\\n",
       "0                        65                          6   \n",
       "1                       122                         35   \n",
       "2                        94                         14   \n",
       "\n",
       "   street_furniture_bike_shelters  street_furniture_city_benches  \\\n",
       "0                               0                             10   \n",
       "1                               0                              7   \n",
       "2                               0                              4   \n",
       "\n",
       "   linknyc_kiosks  poles_reserved_by_mobile  pole_with_equipment_installed  \\\n",
       "0               5                       8.0                           24.0   \n",
       "1               0                      11.0                           25.0   \n",
       "2               0                       7.0                            6.0   \n",
       "\n",
       "   density_of_poles_reserved mobile_telecom_franchise  \\\n",
       "0                       1.68                     High   \n",
       "1                       0.45               Medium Low   \n",
       "2                       0.57               Medium Low   \n",
       "\n",
       "   empire_city_subway_coverage empire_city_subway_coverage_1  \\\n",
       "0                          0.0                           N/A   \n",
       "1                          0.0                           N/A   \n",
       "2                          0.0                           N/A   \n",
       "\n",
       "   percentage_of_households  number_of_fixed_wireless  estimated_aerial_plant  \\\n",
       "0                      0.25                       2.0                    0.00   \n",
       "1                      1.00                       1.0                    0.96   \n",
       "2                      0.97                       1.0                    0.59   \n",
       "\n",
       "   estimated_underground_plant       geographic_variations_in  \\\n",
       "0                         0.88      Underground Network Areas   \n",
       "1                         0.53  Above and Underground Network   \n",
       "2                         0.83  Above and Underground Network   \n",
       "\n",
       "  estimated_underground_utility  utility_pole_make_ready  \\\n",
       "0                          High                      4.5   \n",
       "1                       Average                      4.0   \n",
       "2                          High                      4.5   \n",
       "\n",
       "  utility_pole_make_ready_1  nyc_internet_master_plan  \\\n",
       "0                      High                      1.22   \n",
       "1                   Average                      2.45   \n",
       "2                      High                      1.43   \n",
       "\n",
       "  nyc_internet_master_plan_1 fiber_drops_estimated_relative  \\\n",
       "0                Medium High                           High   \n",
       "1                       High                        Average   \n",
       "2                       High                           High   \n",
       "\n",
       "  indoor_cabling_for_multiple optimal_for_unlicensed  percentage_optimal_for  \\\n",
       "0                         Low                    YES                    0.37   \n",
       "1                     Average                    YES                    0.25   \n",
       "2                         Low                    YES                    0.62   \n",
       "\n",
       "   estimated_number_of_radio  estimated_number_of_radio_1  \\\n",
       "0                      174.0                         39.0   \n",
       "1                       86.0                         29.0   \n",
       "2                       56.0                          8.0   \n",
       "\n",
       "  sample_of_nta_field_surveyed reviewed_for_underground  \\\n",
       "0                           NO                       NO   \n",
       "1                           NO                       NO   \n",
       "2                           NO                       NO   \n",
       "\n",
       "  reviewed_for_aerial_fiber reviewed_for_millimeter_wave field_survey_findings  \n",
       "0                        NO                           NO                  NONE  \n",
       "1                        NO                           NO                  NONE  \n",
       "2                        NO                           NO                  NONE  "
      ]
     },
     "execution_count": 10,
     "metadata": {},
     "output_type": "execute_result"
    }
   ],
   "source": [
    "bb.head(3)"
   ]
  },
  {
   "cell_type": "markdown",
   "id": "allied-complex",
   "metadata": {},
   "source": [
    "## Preparing NTA Economic Data"
   ]
  },
  {
   "cell_type": "code",
   "execution_count": 130,
   "id": "reduced-trinity",
   "metadata": {
    "ExecuteTime": {
     "end_time": "2021-07-27T21:35:17.427893Z",
     "start_time": "2021-07-27T21:35:14.395485Z"
    }
   },
   "outputs": [],
   "source": [
    "econ = pd.read_excel('./data/nta_econ_2016.xlsx')"
   ]
  },
  {
   "cell_type": "code",
   "execution_count": 131,
   "id": "beginning-ceramic",
   "metadata": {
    "ExecuteTime": {
     "end_time": "2021-07-27T21:35:17.435775Z",
     "start_time": "2021-07-27T21:35:17.430905Z"
    }
   },
   "outputs": [],
   "source": [
    "hh_inc = [\n",
    "    'HHIU10', 'HHI10t14', 'HHI15t24', 'HHI25t34', 'HHI35t49',\n",
    "    'HHI50t74', 'HHI75t99', 'HI100t149', 'HI150t199', 'HHI200pl'\n",
    "]\n",
    "hh_inc = [ col + 'P' for col in hh_inc ]\n",
    "fm_inc = [\n",
    "    'FamIU10', 'FamI10t14', 'FamI15t24', 'FamI25t34', 'FamI35t49',\n",
    "    'FamI50t74', 'FamI75t99', 'FI100t149', 'FI150t199', 'FamI200pl'\n",
    "]\n",
    "fm_inc = [ col + 'P' for col in fm_inc ]"
   ]
  },
  {
   "cell_type": "code",
   "execution_count": 132,
   "id": "acoustic-battery",
   "metadata": {
    "ExecuteTime": {
     "end_time": "2021-07-27T21:35:17.449238Z",
     "start_time": "2021-07-27T21:35:17.440111Z"
    }
   },
   "outputs": [],
   "source": [
    "# Engineer share of households are families\n",
    "econ['Share Households Families'] = round(econ['Fam2E'] / econ['HH2E'], 4)\n",
    "\n",
    "# Keep relevant columns\n",
    "econ = econ[\n",
    "    ['GeoID', 'Share Households Families']\n",
    "    + ['MdHHIncE', 'MnHHIncE', 'MdFamIncE']\n",
    "    + hh_inc\n",
    "    + fm_inc\n",
    "]"
   ]
  },
  {
   "cell_type": "code",
   "execution_count": 133,
   "id": "hourly-assumption",
   "metadata": {
    "ExecuteTime": {
     "end_time": "2021-07-27T21:35:17.462560Z",
     "start_time": "2021-07-27T21:35:17.453386Z"
    }
   },
   "outputs": [],
   "source": [
    "# Rename columns\n",
    "labels = {\n",
    "    'MdHHIncE': 'Median HH Income',\n",
    "    'MnHHIncE': 'Mean HH Income',\n",
    "    'MdFamIncE': 'Median Fam. Income'\n",
    "}\n",
    "for col in hh_inc + fm_inc:\n",
    "    if col[:2] == 'HH':\n",
    "        inc_range = 'HH: ' + re.search('(?<=HHI)(.*)(?=P)', col)[0]\n",
    "    elif col[:2] == 'HI':\n",
    "        inc_range = 'HH: ' + re.search('(?<=HI)(.*)(?=P)', col)[0]\n",
    "    elif col[:3] == 'Fam':\n",
    "        inc_range = 'Fam: ' + re.search('(?<=FamI)(.*)(?=P)', col)[0]\n",
    "    else:\n",
    "        inc_range = 'Fam: ' + re.search('(?<=FI)(.*)(?=P)', col)[0]\n",
    "    \n",
    "    inc_range = inc_range.replace('U', 'Under ')\n",
    "    inc_range = inc_range.replace('pl', ' Plus')\n",
    "    inc_range = inc_range.replace('t', '-')\n",
    "    labels[col] = inc_range\n",
    "\n",
    "econ.rename(columns=labels, inplace=True)"
   ]
  },
  {
   "cell_type": "code",
   "execution_count": 134,
   "id": "global-grave",
   "metadata": {
    "ExecuteTime": {
     "end_time": "2021-07-27T21:35:17.502309Z",
     "start_time": "2021-07-27T21:35:17.465134Z"
    }
   },
   "outputs": [
    {
     "data": {
      "text/html": [
       "<div>\n",
       "<style scoped>\n",
       "    .dataframe tbody tr th:only-of-type {\n",
       "        vertical-align: middle;\n",
       "    }\n",
       "\n",
       "    .dataframe tbody tr th {\n",
       "        vertical-align: top;\n",
       "    }\n",
       "\n",
       "    .dataframe thead th {\n",
       "        text-align: right;\n",
       "    }\n",
       "</style>\n",
       "<table border=\"1\" class=\"dataframe\">\n",
       "  <thead>\n",
       "    <tr style=\"text-align: right;\">\n",
       "      <th></th>\n",
       "      <th>GeoID</th>\n",
       "      <th>Share Households Families</th>\n",
       "      <th>Median HH Income</th>\n",
       "      <th>Mean HH Income</th>\n",
       "      <th>Median Fam. Income</th>\n",
       "      <th>HH: Under 10</th>\n",
       "      <th>HH: 10-14</th>\n",
       "      <th>HH: 15-24</th>\n",
       "      <th>HH: 25-34</th>\n",
       "      <th>HH: 35-49</th>\n",
       "      <th>HH: 50-74</th>\n",
       "      <th>HH: 75-99</th>\n",
       "      <th>HH: 100-149</th>\n",
       "      <th>HH: 150-199</th>\n",
       "      <th>HH: 200 Plus</th>\n",
       "      <th>Fam: Under 10</th>\n",
       "      <th>Fam: 10-14</th>\n",
       "      <th>Fam: 15-24</th>\n",
       "      <th>Fam: 25-34</th>\n",
       "      <th>Fam: 35-49</th>\n",
       "      <th>Fam: 50-74</th>\n",
       "      <th>Fam: 75-99</th>\n",
       "      <th>Fam: 100-149</th>\n",
       "      <th>Fam: 150-199</th>\n",
       "      <th>Fam: 200 Plus</th>\n",
       "    </tr>\n",
       "  </thead>\n",
       "  <tbody>\n",
       "    <tr>\n",
       "      <th>0</th>\n",
       "      <td>BK27</td>\n",
       "      <td>0.7181</td>\n",
       "      <td>58243.0</td>\n",
       "      <td>75950.0</td>\n",
       "      <td>67616.0</td>\n",
       "      <td>7.8</td>\n",
       "      <td>5.4</td>\n",
       "      <td>10.7</td>\n",
       "      <td>8.1</td>\n",
       "      <td>11.3</td>\n",
       "      <td>18.1</td>\n",
       "      <td>11.8</td>\n",
       "      <td>15.4</td>\n",
       "      <td>6.2</td>\n",
       "      <td>5.1</td>\n",
       "      <td>3.7</td>\n",
       "      <td>3.7</td>\n",
       "      <td>10.2</td>\n",
       "      <td>8.3</td>\n",
       "      <td>12.8</td>\n",
       "      <td>15.7</td>\n",
       "      <td>12.8</td>\n",
       "      <td>19.5</td>\n",
       "      <td>7.3</td>\n",
       "      <td>6.2</td>\n",
       "    </tr>\n",
       "    <tr>\n",
       "      <th>1</th>\n",
       "      <td>BK31</td>\n",
       "      <td>0.5654</td>\n",
       "      <td>63539.0</td>\n",
       "      <td>86319.0</td>\n",
       "      <td>80079.0</td>\n",
       "      <td>6.9</td>\n",
       "      <td>4.7</td>\n",
       "      <td>9.7</td>\n",
       "      <td>9.1</td>\n",
       "      <td>10.6</td>\n",
       "      <td>16.6</td>\n",
       "      <td>12.3</td>\n",
       "      <td>14.4</td>\n",
       "      <td>7.5</td>\n",
       "      <td>8.3</td>\n",
       "      <td>4.2</td>\n",
       "      <td>3.4</td>\n",
       "      <td>8.7</td>\n",
       "      <td>7.9</td>\n",
       "      <td>9.4</td>\n",
       "      <td>14.0</td>\n",
       "      <td>12.3</td>\n",
       "      <td>17.4</td>\n",
       "      <td>10.2</td>\n",
       "      <td>12.6</td>\n",
       "    </tr>\n",
       "    <tr>\n",
       "      <th>2</th>\n",
       "      <td>BK75</td>\n",
       "      <td>0.5580</td>\n",
       "      <td>39970.0</td>\n",
       "      <td>62616.0</td>\n",
       "      <td>42162.0</td>\n",
       "      <td>14.1</td>\n",
       "      <td>8.9</td>\n",
       "      <td>13.0</td>\n",
       "      <td>9.6</td>\n",
       "      <td>12.0</td>\n",
       "      <td>14.2</td>\n",
       "      <td>8.7</td>\n",
       "      <td>10.9</td>\n",
       "      <td>4.6</td>\n",
       "      <td>4.0</td>\n",
       "      <td>9.8</td>\n",
       "      <td>7.7</td>\n",
       "      <td>14.7</td>\n",
       "      <td>11.1</td>\n",
       "      <td>12.8</td>\n",
       "      <td>14.7</td>\n",
       "      <td>7.7</td>\n",
       "      <td>11.3</td>\n",
       "      <td>5.0</td>\n",
       "      <td>5.2</td>\n",
       "    </tr>\n",
       "  </tbody>\n",
       "</table>\n",
       "</div>"
      ],
      "text/plain": [
       "  GeoID  Share Households Families  Median HH Income  Mean HH Income  \\\n",
       "0  BK27                     0.7181           58243.0         75950.0   \n",
       "1  BK31                     0.5654           63539.0         86319.0   \n",
       "2  BK75                     0.5580           39970.0         62616.0   \n",
       "\n",
       "   Median Fam. Income  HH: Under 10  HH: 10-14  HH: 15-24  HH: 25-34  \\\n",
       "0             67616.0           7.8        5.4       10.7        8.1   \n",
       "1             80079.0           6.9        4.7        9.7        9.1   \n",
       "2             42162.0          14.1        8.9       13.0        9.6   \n",
       "\n",
       "   HH: 35-49  HH: 50-74  HH: 75-99  HH: 100-149  HH: 150-199  HH: 200 Plus  \\\n",
       "0       11.3       18.1       11.8         15.4          6.2           5.1   \n",
       "1       10.6       16.6       12.3         14.4          7.5           8.3   \n",
       "2       12.0       14.2        8.7         10.9          4.6           4.0   \n",
       "\n",
       "   Fam: Under 10  Fam: 10-14  Fam: 15-24  Fam: 25-34  Fam: 35-49  Fam: 50-74  \\\n",
       "0            3.7         3.7        10.2         8.3        12.8        15.7   \n",
       "1            4.2         3.4         8.7         7.9         9.4        14.0   \n",
       "2            9.8         7.7        14.7        11.1        12.8        14.7   \n",
       "\n",
       "   Fam: 75-99  Fam: 100-149  Fam: 150-199  Fam: 200 Plus  \n",
       "0        12.8          19.5           7.3            6.2  \n",
       "1        12.3          17.4          10.2           12.6  \n",
       "2         7.7          11.3           5.0            5.2  "
      ]
     },
     "execution_count": 134,
     "metadata": {},
     "output_type": "execute_result"
    }
   ],
   "source": [
    "econ.head(3)"
   ]
  },
  {
   "cell_type": "markdown",
   "id": "alone-bullet",
   "metadata": {},
   "source": [
    "## Merging Data"
   ]
  },
  {
   "cell_type": "code",
   "execution_count": 135,
   "id": "dce60b60",
   "metadata": {
    "ExecuteTime": {
     "end_time": "2021-07-27T21:35:39.641644Z",
     "start_time": "2021-07-27T21:35:39.537850Z"
    }
   },
   "outputs": [],
   "source": [
    "df = pd.merge(demo, bb, on='GeoID')\n",
    "df = pd.merge(df, econ, on='GeoID')\n",
    "df.fillna(0, inplace=True)"
   ]
  },
  {
   "cell_type": "code",
   "execution_count": 136,
   "id": "objective-purpose",
   "metadata": {
    "ExecuteTime": {
     "end_time": "2021-07-27T21:35:41.454425Z",
     "start_time": "2021-07-27T21:35:41.347146Z"
    }
   },
   "outputs": [
    {
     "data": {
      "text/html": [
       "<div>\n",
       "<style scoped>\n",
       "    .dataframe tbody tr th:only-of-type {\n",
       "        vertical-align: middle;\n",
       "    }\n",
       "\n",
       "    .dataframe tbody tr th {\n",
       "        vertical-align: top;\n",
       "    }\n",
       "\n",
       "    .dataframe thead th {\n",
       "        text-align: right;\n",
       "    }\n",
       "</style>\n",
       "<table border=\"1\" class=\"dataframe\">\n",
       "  <thead>\n",
       "    <tr style=\"text-align: right;\">\n",
       "      <th></th>\n",
       "      <th>Neighborhood</th>\n",
       "      <th>GeoID</th>\n",
       "      <th>Borough</th>\n",
       "      <th>Male</th>\n",
       "      <th>Female</th>\n",
       "      <th>MdAgeE</th>\n",
       "      <th>PopU5</th>\n",
       "      <th>Pop5t9</th>\n",
       "      <th>Pop10t14</th>\n",
       "      <th>Pop15t19</th>\n",
       "      <th>Pop20t24</th>\n",
       "      <th>Pop25t29</th>\n",
       "      <th>Pop30t34</th>\n",
       "      <th>Pop35t39</th>\n",
       "      <th>Pop40t44</th>\n",
       "      <th>Pop45t49</th>\n",
       "      <th>Pop50t54</th>\n",
       "      <th>Pop55t59</th>\n",
       "      <th>Pop60t64</th>\n",
       "      <th>Pop65t69</th>\n",
       "      <th>Pop70t74</th>\n",
       "      <th>Pop75t79</th>\n",
       "      <th>Pop80t84</th>\n",
       "      <th>Pop85pl</th>\n",
       "      <th>PopU181</th>\n",
       "      <th>Pop65pl1</th>\n",
       "      <th>PopU18M</th>\n",
       "      <th>PopU18F</th>\n",
       "      <th>Pop65plM</th>\n",
       "      <th>Pop65plF</th>\n",
       "      <th>Hsp1</th>\n",
       "      <th>WtNH</th>\n",
       "      <th>BlNH</th>\n",
       "      <th>AIANNH</th>\n",
       "      <th>AsnNH</th>\n",
       "      <th>NHPINH</th>\n",
       "      <th>OthNH</th>\n",
       "      <th>Rc2plNH</th>\n",
       "      <th>HspMe</th>\n",
       "      <th>HspPR</th>\n",
       "      <th>HspCub</th>\n",
       "      <th>HspDom</th>\n",
       "      <th>HspCAm</th>\n",
       "      <th>HspSAm</th>\n",
       "      <th>HspOth</th>\n",
       "      <th>Asn1Rc</th>\n",
       "      <th>AsnEast</th>\n",
       "      <th>AsnSouth</th>\n",
       "      <th>AsnSEast</th>\n",
       "      <th>AsnOAsn</th>\n",
       "      <th>...</th>\n",
       "      <th>pole_with_equipment_installed</th>\n",
       "      <th>density_of_poles_reserved</th>\n",
       "      <th>mobile_telecom_franchise</th>\n",
       "      <th>empire_city_subway_coverage</th>\n",
       "      <th>empire_city_subway_coverage_1</th>\n",
       "      <th>percentage_of_households</th>\n",
       "      <th>number_of_fixed_wireless</th>\n",
       "      <th>estimated_aerial_plant</th>\n",
       "      <th>estimated_underground_plant</th>\n",
       "      <th>geographic_variations_in</th>\n",
       "      <th>estimated_underground_utility</th>\n",
       "      <th>utility_pole_make_ready</th>\n",
       "      <th>utility_pole_make_ready_1</th>\n",
       "      <th>nyc_internet_master_plan</th>\n",
       "      <th>nyc_internet_master_plan_1</th>\n",
       "      <th>fiber_drops_estimated_relative</th>\n",
       "      <th>indoor_cabling_for_multiple</th>\n",
       "      <th>optimal_for_unlicensed</th>\n",
       "      <th>percentage_optimal_for</th>\n",
       "      <th>estimated_number_of_radio</th>\n",
       "      <th>estimated_number_of_radio_1</th>\n",
       "      <th>sample_of_nta_field_surveyed</th>\n",
       "      <th>reviewed_for_underground</th>\n",
       "      <th>reviewed_for_aerial_fiber</th>\n",
       "      <th>reviewed_for_millimeter_wave</th>\n",
       "      <th>field_survey_findings</th>\n",
       "      <th>Share Households Families</th>\n",
       "      <th>Median HH Income</th>\n",
       "      <th>Mean HH Income</th>\n",
       "      <th>Median Fam. Income</th>\n",
       "      <th>HH: Under 10</th>\n",
       "      <th>HH: 10-14</th>\n",
       "      <th>HH: 15-24</th>\n",
       "      <th>HH: 25-34</th>\n",
       "      <th>HH: 35-49</th>\n",
       "      <th>HH: 50-74</th>\n",
       "      <th>HH: 75-99</th>\n",
       "      <th>HH: 100-149</th>\n",
       "      <th>HH: 150-199</th>\n",
       "      <th>HH: 200 Plus</th>\n",
       "      <th>Fam: Under 10</th>\n",
       "      <th>Fam: 10-14</th>\n",
       "      <th>Fam: 15-24</th>\n",
       "      <th>Fam: 25-34</th>\n",
       "      <th>Fam: 35-49</th>\n",
       "      <th>Fam: 50-74</th>\n",
       "      <th>Fam: 75-99</th>\n",
       "      <th>Fam: 100-149</th>\n",
       "      <th>Fam: 150-199</th>\n",
       "      <th>Fam: 200 Plus</th>\n",
       "    </tr>\n",
       "  </thead>\n",
       "  <tbody>\n",
       "    <tr>\n",
       "      <th>0</th>\n",
       "      <td>Bath Beach</td>\n",
       "      <td>BK27</td>\n",
       "      <td>Brooklyn</td>\n",
       "      <td>0.503</td>\n",
       "      <td>0.497</td>\n",
       "      <td>38.3</td>\n",
       "      <td>0.067</td>\n",
       "      <td>0.055</td>\n",
       "      <td>0.058</td>\n",
       "      <td>0.050</td>\n",
       "      <td>0.052</td>\n",
       "      <td>0.086</td>\n",
       "      <td>0.084</td>\n",
       "      <td>0.074</td>\n",
       "      <td>0.074</td>\n",
       "      <td>0.067</td>\n",
       "      <td>0.064</td>\n",
       "      <td>0.065</td>\n",
       "      <td>0.058</td>\n",
       "      <td>0.043</td>\n",
       "      <td>0.031</td>\n",
       "      <td>0.024</td>\n",
       "      <td>0.024</td>\n",
       "      <td>0.025</td>\n",
       "      <td>0.214</td>\n",
       "      <td>0.147</td>\n",
       "      <td>0.566</td>\n",
       "      <td>0.434</td>\n",
       "      <td>0.431</td>\n",
       "      <td>0.569</td>\n",
       "      <td>0.177</td>\n",
       "      <td>0.437</td>\n",
       "      <td>0.012</td>\n",
       "      <td>0.000</td>\n",
       "      <td>0.361</td>\n",
       "      <td>0.001</td>\n",
       "      <td>0.002</td>\n",
       "      <td>0.010</td>\n",
       "      <td>0.228</td>\n",
       "      <td>0.293</td>\n",
       "      <td>0.022</td>\n",
       "      <td>0.040</td>\n",
       "      <td>0.230</td>\n",
       "      <td>0.149</td>\n",
       "      <td>0.039</td>\n",
       "      <td>1.0</td>\n",
       "      <td>0.855</td>\n",
       "      <td>0.097</td>\n",
       "      <td>0.032</td>\n",
       "      <td>0.004</td>\n",
       "      <td>...</td>\n",
       "      <td>11.0</td>\n",
       "      <td>0.73</td>\n",
       "      <td>Medium High</td>\n",
       "      <td>0.0</td>\n",
       "      <td>N/A</td>\n",
       "      <td>0.87</td>\n",
       "      <td>2.0</td>\n",
       "      <td>0.62</td>\n",
       "      <td>0.93</td>\n",
       "      <td>Above and Underground Network</td>\n",
       "      <td>Average</td>\n",
       "      <td>4.0</td>\n",
       "      <td>Average</td>\n",
       "      <td>1.12</td>\n",
       "      <td>Medium High</td>\n",
       "      <td>Average</td>\n",
       "      <td>Average</td>\n",
       "      <td>YES</td>\n",
       "      <td>0.17</td>\n",
       "      <td>39.0</td>\n",
       "      <td>5.0</td>\n",
       "      <td>NO</td>\n",
       "      <td>NO</td>\n",
       "      <td>NO</td>\n",
       "      <td>NO</td>\n",
       "      <td>NONE</td>\n",
       "      <td>0.7181</td>\n",
       "      <td>58243.0</td>\n",
       "      <td>75950.0</td>\n",
       "      <td>67616.0</td>\n",
       "      <td>7.8</td>\n",
       "      <td>5.4</td>\n",
       "      <td>10.7</td>\n",
       "      <td>8.1</td>\n",
       "      <td>11.3</td>\n",
       "      <td>18.1</td>\n",
       "      <td>11.8</td>\n",
       "      <td>15.4</td>\n",
       "      <td>6.2</td>\n",
       "      <td>5.1</td>\n",
       "      <td>3.7</td>\n",
       "      <td>3.7</td>\n",
       "      <td>10.2</td>\n",
       "      <td>8.3</td>\n",
       "      <td>12.8</td>\n",
       "      <td>15.7</td>\n",
       "      <td>12.8</td>\n",
       "      <td>19.5</td>\n",
       "      <td>7.3</td>\n",
       "      <td>6.2</td>\n",
       "    </tr>\n",
       "    <tr>\n",
       "      <th>1</th>\n",
       "      <td>Bay Ridge</td>\n",
       "      <td>BK31</td>\n",
       "      <td>Brooklyn</td>\n",
       "      <td>0.478</td>\n",
       "      <td>0.522</td>\n",
       "      <td>39.5</td>\n",
       "      <td>0.065</td>\n",
       "      <td>0.057</td>\n",
       "      <td>0.043</td>\n",
       "      <td>0.045</td>\n",
       "      <td>0.055</td>\n",
       "      <td>0.086</td>\n",
       "      <td>0.087</td>\n",
       "      <td>0.069</td>\n",
       "      <td>0.069</td>\n",
       "      <td>0.071</td>\n",
       "      <td>0.075</td>\n",
       "      <td>0.062</td>\n",
       "      <td>0.060</td>\n",
       "      <td>0.051</td>\n",
       "      <td>0.038</td>\n",
       "      <td>0.027</td>\n",
       "      <td>0.021</td>\n",
       "      <td>0.020</td>\n",
       "      <td>0.191</td>\n",
       "      <td>0.156</td>\n",
       "      <td>0.485</td>\n",
       "      <td>0.515</td>\n",
       "      <td>0.396</td>\n",
       "      <td>0.604</td>\n",
       "      <td>0.179</td>\n",
       "      <td>0.634</td>\n",
       "      <td>0.019</td>\n",
       "      <td>0.002</td>\n",
       "      <td>0.146</td>\n",
       "      <td>0.000</td>\n",
       "      <td>0.002</td>\n",
       "      <td>0.018</td>\n",
       "      <td>0.223</td>\n",
       "      <td>0.420</td>\n",
       "      <td>0.034</td>\n",
       "      <td>0.065</td>\n",
       "      <td>0.064</td>\n",
       "      <td>0.162</td>\n",
       "      <td>0.032</td>\n",
       "      <td>1.0</td>\n",
       "      <td>0.770</td>\n",
       "      <td>0.165</td>\n",
       "      <td>0.047</td>\n",
       "      <td>0.010</td>\n",
       "      <td>...</td>\n",
       "      <td>35.0</td>\n",
       "      <td>0.45</td>\n",
       "      <td>Medium Low</td>\n",
       "      <td>0.0</td>\n",
       "      <td>N/A</td>\n",
       "      <td>0.56</td>\n",
       "      <td>3.0</td>\n",
       "      <td>0.08</td>\n",
       "      <td>0.93</td>\n",
       "      <td>Above and Underground Network</td>\n",
       "      <td>Average</td>\n",
       "      <td>4.0</td>\n",
       "      <td>Average</td>\n",
       "      <td>3.04</td>\n",
       "      <td>High</td>\n",
       "      <td>Average</td>\n",
       "      <td>Average</td>\n",
       "      <td>YES</td>\n",
       "      <td>0.20</td>\n",
       "      <td>322.0</td>\n",
       "      <td>46.0</td>\n",
       "      <td>NO</td>\n",
       "      <td>NO</td>\n",
       "      <td>NO</td>\n",
       "      <td>NO</td>\n",
       "      <td>NONE</td>\n",
       "      <td>0.5654</td>\n",
       "      <td>63539.0</td>\n",
       "      <td>86319.0</td>\n",
       "      <td>80079.0</td>\n",
       "      <td>6.9</td>\n",
       "      <td>4.7</td>\n",
       "      <td>9.7</td>\n",
       "      <td>9.1</td>\n",
       "      <td>10.6</td>\n",
       "      <td>16.6</td>\n",
       "      <td>12.3</td>\n",
       "      <td>14.4</td>\n",
       "      <td>7.5</td>\n",
       "      <td>8.3</td>\n",
       "      <td>4.2</td>\n",
       "      <td>3.4</td>\n",
       "      <td>8.7</td>\n",
       "      <td>7.9</td>\n",
       "      <td>9.4</td>\n",
       "      <td>14.0</td>\n",
       "      <td>12.3</td>\n",
       "      <td>17.4</td>\n",
       "      <td>10.2</td>\n",
       "      <td>12.6</td>\n",
       "    </tr>\n",
       "    <tr>\n",
       "      <th>2</th>\n",
       "      <td>Bedford</td>\n",
       "      <td>BK75</td>\n",
       "      <td>Brooklyn</td>\n",
       "      <td>0.484</td>\n",
       "      <td>0.516</td>\n",
       "      <td>29.1</td>\n",
       "      <td>0.099</td>\n",
       "      <td>0.087</td>\n",
       "      <td>0.071</td>\n",
       "      <td>0.062</td>\n",
       "      <td>0.086</td>\n",
       "      <td>0.115</td>\n",
       "      <td>0.093</td>\n",
       "      <td>0.074</td>\n",
       "      <td>0.058</td>\n",
       "      <td>0.048</td>\n",
       "      <td>0.048</td>\n",
       "      <td>0.046</td>\n",
       "      <td>0.036</td>\n",
       "      <td>0.024</td>\n",
       "      <td>0.021</td>\n",
       "      <td>0.014</td>\n",
       "      <td>0.012</td>\n",
       "      <td>0.007</td>\n",
       "      <td>0.297</td>\n",
       "      <td>0.077</td>\n",
       "      <td>0.546</td>\n",
       "      <td>0.454</td>\n",
       "      <td>0.384</td>\n",
       "      <td>0.616</td>\n",
       "      <td>0.195</td>\n",
       "      <td>0.351</td>\n",
       "      <td>0.406</td>\n",
       "      <td>0.001</td>\n",
       "      <td>0.030</td>\n",
       "      <td>0.000</td>\n",
       "      <td>0.002</td>\n",
       "      <td>0.015</td>\n",
       "      <td>0.083</td>\n",
       "      <td>0.434</td>\n",
       "      <td>0.018</td>\n",
       "      <td>0.298</td>\n",
       "      <td>0.055</td>\n",
       "      <td>0.068</td>\n",
       "      <td>0.044</td>\n",
       "      <td>1.0</td>\n",
       "      <td>0.420</td>\n",
       "      <td>0.410</td>\n",
       "      <td>0.135</td>\n",
       "      <td>0.011</td>\n",
       "      <td>...</td>\n",
       "      <td>26.0</td>\n",
       "      <td>0.85</td>\n",
       "      <td>Medium High</td>\n",
       "      <td>0.0</td>\n",
       "      <td>N/A</td>\n",
       "      <td>0.60</td>\n",
       "      <td>1.0</td>\n",
       "      <td>0.00</td>\n",
       "      <td>1.00</td>\n",
       "      <td>Underground Network Areas</td>\n",
       "      <td>Average</td>\n",
       "      <td>4.5</td>\n",
       "      <td>High</td>\n",
       "      <td>2.32</td>\n",
       "      <td>High</td>\n",
       "      <td>Average</td>\n",
       "      <td>Average</td>\n",
       "      <td>YES</td>\n",
       "      <td>0.55</td>\n",
       "      <td>282.0</td>\n",
       "      <td>103.0</td>\n",
       "      <td>NO</td>\n",
       "      <td>NO</td>\n",
       "      <td>NO</td>\n",
       "      <td>NO</td>\n",
       "      <td>NONE</td>\n",
       "      <td>0.5580</td>\n",
       "      <td>39970.0</td>\n",
       "      <td>62616.0</td>\n",
       "      <td>42162.0</td>\n",
       "      <td>14.1</td>\n",
       "      <td>8.9</td>\n",
       "      <td>13.0</td>\n",
       "      <td>9.6</td>\n",
       "      <td>12.0</td>\n",
       "      <td>14.2</td>\n",
       "      <td>8.7</td>\n",
       "      <td>10.9</td>\n",
       "      <td>4.6</td>\n",
       "      <td>4.0</td>\n",
       "      <td>9.8</td>\n",
       "      <td>7.7</td>\n",
       "      <td>14.7</td>\n",
       "      <td>11.1</td>\n",
       "      <td>12.8</td>\n",
       "      <td>14.7</td>\n",
       "      <td>7.7</td>\n",
       "      <td>11.3</td>\n",
       "      <td>5.0</td>\n",
       "      <td>5.2</td>\n",
       "    </tr>\n",
       "  </tbody>\n",
       "</table>\n",
       "<p>3 rows × 149 columns</p>\n",
       "</div>"
      ],
      "text/plain": [
       "  Neighborhood GeoID   Borough   Male  Female  MdAgeE  PopU5  Pop5t9  \\\n",
       "0   Bath Beach  BK27  Brooklyn  0.503   0.497    38.3  0.067   0.055   \n",
       "1    Bay Ridge  BK31  Brooklyn  0.478   0.522    39.5  0.065   0.057   \n",
       "2      Bedford  BK75  Brooklyn  0.484   0.516    29.1  0.099   0.087   \n",
       "\n",
       "   Pop10t14  Pop15t19  Pop20t24  Pop25t29  Pop30t34  Pop35t39  Pop40t44  \\\n",
       "0     0.058     0.050     0.052     0.086     0.084     0.074     0.074   \n",
       "1     0.043     0.045     0.055     0.086     0.087     0.069     0.069   \n",
       "2     0.071     0.062     0.086     0.115     0.093     0.074     0.058   \n",
       "\n",
       "   Pop45t49  Pop50t54  Pop55t59  Pop60t64  Pop65t69  Pop70t74  Pop75t79  \\\n",
       "0     0.067     0.064     0.065     0.058     0.043     0.031     0.024   \n",
       "1     0.071     0.075     0.062     0.060     0.051     0.038     0.027   \n",
       "2     0.048     0.048     0.046     0.036     0.024     0.021     0.014   \n",
       "\n",
       "   Pop80t84  Pop85pl  PopU181  Pop65pl1  PopU18M  PopU18F  Pop65plM  Pop65plF  \\\n",
       "0     0.024    0.025    0.214     0.147    0.566    0.434     0.431     0.569   \n",
       "1     0.021    0.020    0.191     0.156    0.485    0.515     0.396     0.604   \n",
       "2     0.012    0.007    0.297     0.077    0.546    0.454     0.384     0.616   \n",
       "\n",
       "    Hsp1   WtNH   BlNH  AIANNH  AsnNH  NHPINH  OthNH  Rc2plNH  HspMe  HspPR  \\\n",
       "0  0.177  0.437  0.012   0.000  0.361   0.001  0.002    0.010  0.228  0.293   \n",
       "1  0.179  0.634  0.019   0.002  0.146   0.000  0.002    0.018  0.223  0.420   \n",
       "2  0.195  0.351  0.406   0.001  0.030   0.000  0.002    0.015  0.083  0.434   \n",
       "\n",
       "   HspCub  HspDom  HspCAm  HspSAm  HspOth  Asn1Rc  AsnEast  AsnSouth  \\\n",
       "0   0.022   0.040   0.230   0.149   0.039     1.0    0.855     0.097   \n",
       "1   0.034   0.065   0.064   0.162   0.032     1.0    0.770     0.165   \n",
       "2   0.018   0.298   0.055   0.068   0.044     1.0    0.420     0.410   \n",
       "\n",
       "   AsnSEast  AsnOAsn  ...  pole_with_equipment_installed  \\\n",
       "0     0.032    0.004  ...                           11.0   \n",
       "1     0.047    0.010  ...                           35.0   \n",
       "2     0.135    0.011  ...                           26.0   \n",
       "\n",
       "   density_of_poles_reserved  mobile_telecom_franchise  \\\n",
       "0                       0.73               Medium High   \n",
       "1                       0.45                Medium Low   \n",
       "2                       0.85               Medium High   \n",
       "\n",
       "   empire_city_subway_coverage  empire_city_subway_coverage_1  \\\n",
       "0                          0.0                            N/A   \n",
       "1                          0.0                            N/A   \n",
       "2                          0.0                            N/A   \n",
       "\n",
       "   percentage_of_households  number_of_fixed_wireless estimated_aerial_plant  \\\n",
       "0                      0.87                       2.0                   0.62   \n",
       "1                      0.56                       3.0                   0.08   \n",
       "2                      0.60                       1.0                   0.00   \n",
       "\n",
       "   estimated_underground_plant       geographic_variations_in  \\\n",
       "0                         0.93  Above and Underground Network   \n",
       "1                         0.93  Above and Underground Network   \n",
       "2                         1.00      Underground Network Areas   \n",
       "\n",
       "   estimated_underground_utility utility_pole_make_ready  \\\n",
       "0                        Average                     4.0   \n",
       "1                        Average                     4.0   \n",
       "2                        Average                     4.5   \n",
       "\n",
       "   utility_pole_make_ready_1 nyc_internet_master_plan  \\\n",
       "0                    Average                     1.12   \n",
       "1                    Average                     3.04   \n",
       "2                       High                     2.32   \n",
       "\n",
       "   nyc_internet_master_plan_1 fiber_drops_estimated_relative  \\\n",
       "0                 Medium High                        Average   \n",
       "1                        High                        Average   \n",
       "2                        High                        Average   \n",
       "\n",
       "   indoor_cabling_for_multiple optimal_for_unlicensed  percentage_optimal_for  \\\n",
       "0                      Average                    YES                    0.17   \n",
       "1                      Average                    YES                    0.20   \n",
       "2                      Average                    YES                    0.55   \n",
       "\n",
       "  estimated_number_of_radio  estimated_number_of_radio_1  \\\n",
       "0                      39.0                          5.0   \n",
       "1                     322.0                         46.0   \n",
       "2                     282.0                        103.0   \n",
       "\n",
       "   sample_of_nta_field_surveyed  reviewed_for_underground  \\\n",
       "0                            NO                        NO   \n",
       "1                            NO                        NO   \n",
       "2                            NO                        NO   \n",
       "\n",
       "   reviewed_for_aerial_fiber  reviewed_for_millimeter_wave  \\\n",
       "0                         NO                            NO   \n",
       "1                         NO                            NO   \n",
       "2                         NO                            NO   \n",
       "\n",
       "   field_survey_findings  Share Households Families  Median HH Income  \\\n",
       "0                   NONE                     0.7181           58243.0   \n",
       "1                   NONE                     0.5654           63539.0   \n",
       "2                   NONE                     0.5580           39970.0   \n",
       "\n",
       "   Mean HH Income  Median Fam. Income HH: Under 10  HH: 10-14  HH: 15-24  \\\n",
       "0         75950.0             67616.0          7.8        5.4       10.7   \n",
       "1         86319.0             80079.0          6.9        4.7        9.7   \n",
       "2         62616.0             42162.0         14.1        8.9       13.0   \n",
       "\n",
       "   HH: 25-34  HH: 35-49  HH: 50-74  HH: 75-99  HH: 100-149  HH: 150-199  \\\n",
       "0        8.1       11.3       18.1       11.8         15.4          6.2   \n",
       "1        9.1       10.6       16.6       12.3         14.4          7.5   \n",
       "2        9.6       12.0       14.2        8.7         10.9          4.6   \n",
       "\n",
       "   HH: 200 Plus  Fam: Under 10 Fam: 10-14  Fam: 15-24  Fam: 25-34  Fam: 35-49  \\\n",
       "0           5.1            3.7        3.7        10.2         8.3        12.8   \n",
       "1           8.3            4.2        3.4         8.7         7.9         9.4   \n",
       "2           4.0            9.8        7.7        14.7        11.1        12.8   \n",
       "\n",
       "   Fam: 50-74  Fam: 75-99  Fam: 100-149  Fam: 150-199  Fam: 200 Plus  \n",
       "0        15.7        12.8          19.5           7.3            6.2  \n",
       "1        14.0        12.3          17.4          10.2           12.6  \n",
       "2        14.7         7.7          11.3           5.0            5.2  \n",
       "\n",
       "[3 rows x 149 columns]"
      ]
     },
     "execution_count": 136,
     "metadata": {},
     "output_type": "execute_result"
    }
   ],
   "source": [
    "df.head(3)"
   ]
  },
  {
   "cell_type": "markdown",
   "id": "controlling-collaboration",
   "metadata": {},
   "source": [
    "### Plots on race/ethnicity and broadband adoption/mobile dependent households"
   ]
  },
  {
   "cell_type": "code",
   "execution_count": 137,
   "id": "suitable-intermediate",
   "metadata": {
    "ExecuteTime": {
     "end_time": "2021-07-27T21:36:00.874307Z",
     "start_time": "2021-07-27T21:36:00.425515Z"
    }
   },
   "outputs": [
    {
     "data": {
      "image/png": "[encoded data removed]",
      "text/plain": [
       "<Figure size 360x360 with 1 Axes>"
      ]
     },
     "metadata": {
      "needs_background": "light"
     },
     "output_type": "display_data"
    }
   ],
   "source": [
    "# Percentage of blocks with high speed fiber\n",
    "sns.lmplot(data=df, x='percentage_of_blocks_with_1', y='home_broadband_adoption')\n",
    "plt.show()"
   ]
  },
  {
   "cell_type": "code",
   "execution_count": 138,
   "id": "4a3a964f",
   "metadata": {
    "ExecuteTime": {
     "end_time": "2021-07-27T21:36:01.305167Z",
     "start_time": "2021-07-27T21:36:00.877191Z"
    }
   },
   "outputs": [
    {
     "data": {
      "image/png": "[encoded data removed]",
      "text/plain": [
       "<Figure size 360x360 with 1 Axes>"
      ]
     },
     "metadata": {
      "needs_background": "light"
     },
     "output_type": "display_data"
    }
   ],
   "source": [
    "sns.lmplot(data=df, x='BlNH', y='mobile_dependent_households')\n",
    "plt.show()"
   ]
  },
  {
   "cell_type": "code",
   "execution_count": 139,
   "id": "previous-involvement",
   "metadata": {
    "ExecuteTime": {
     "end_time": "2021-07-27T21:36:01.724711Z",
     "start_time": "2021-07-27T21:36:01.308977Z"
    }
   },
   "outputs": [
    {
     "data": {
      "image/png": "[encoded data removed]",
      "text/plain": [
       "<Figure size 360x360 with 1 Axes>"
      ]
     },
     "metadata": {
      "needs_background": "light"
     },
     "output_type": "display_data"
    }
   ],
   "source": [
    "sns.lmplot(data=df, x='WtNH', y='mobile_dependent_households')\n",
    "plt.show()"
   ]
  },
  {
   "cell_type": "code",
   "execution_count": 140,
   "id": "first-lloyd",
   "metadata": {
    "ExecuteTime": {
     "end_time": "2021-07-27T21:36:02.507213Z",
     "start_time": "2021-07-27T21:36:02.017316Z"
    }
   },
   "outputs": [
    {
     "data": {
      "image/png": "[encoded data removed]",
      "text/plain": [
       "<Figure size 360x360 with 1 Axes>"
      ]
     },
     "metadata": {
      "needs_background": "light"
     },
     "output_type": "display_data"
    }
   ],
   "source": [
    "sns.lmplot(data=df, x='Hsp1', y='mobile_dependent_households')\n",
    "plt.show()"
   ]
  },
  {
   "cell_type": "code",
   "execution_count": 141,
   "id": "fundamental-thong",
   "metadata": {
    "ExecuteTime": {
     "end_time": "2021-07-27T21:36:03.523893Z",
     "start_time": "2021-07-27T21:36:03.121952Z"
    }
   },
   "outputs": [
    {
     "data": {
      "image/png": "[encoded data removed]",
      "text/plain": [
       "<Figure size 360x360 with 1 Axes>"
      ]
     },
     "metadata": {
      "needs_background": "light"
     },
     "output_type": "display_data"
    }
   ],
   "source": [
    "sns.lmplot(data=df, x='AsnNH', y='mobile_dependent_households')\n",
    "plt.show()"
   ]
  },
  {
   "cell_type": "markdown",
   "id": "unnecessary-chance",
   "metadata": {},
   "source": [
    "### Relabeling and feature engineering\n",
    "- \"Reverse\" engineer certain features for NYC totals\n",
    "- Aggregate certain racial/ethnic groups"
   ]
  },
  {
   "cell_type": "code",
   "execution_count": 171,
   "id": "vanilla-length",
   "metadata": {
    "ExecuteTime": {
     "end_time": "2021-07-27T22:03:13.806088Z",
     "start_time": "2021-07-27T22:03:13.801054Z"
    }
   },
   "outputs": [],
   "source": [
    "# Create new label pairs\n",
    "pairs = [\n",
    "    ('Black (non-Hispanic)', 'BlNH'),\n",
    "    ('White (non-Hispanic)', 'WtNH'),\n",
    "    ('Asian (non-Hispanic)', 'AsnNH'),\n",
    "    ('AmInd/AmNat (non-Hispanic)', 'AIANNH'),\n",
    "    ('NatHawaiian/PacIs (non-Hispanic)', 'NHPINH'),\n",
    "    ('Other (non-Hispanic)', 'OthNH'),\n",
    "    ('2 or more races (non-Hispanic)', 'Rc2plNH'),\n",
    "    ('Hispanic (any race)', 'Hsp1'),\n",
    "    ('Under 18', 'PopU181'),\n",
    "    ('Mobile Dep.', 'mobile_dependent_households'),\n",
    "    ('BB Adoption', 'home_broadband_adoption'),\n",
    "    ('Blocks w/o Fiber', 'percentage_of_blocks_without')\n",
    "]"
   ]
  },
  {
   "cell_type": "code",
   "execution_count": 172,
   "id": "initial-backing",
   "metadata": {
    "ExecuteTime": {
     "end_time": "2021-07-27T22:03:14.231863Z",
     "start_time": "2021-07-27T22:03:14.180136Z"
    }
   },
   "outputs": [],
   "source": [
    "# Create new DataFrames\n",
    "data = pd.DataFrame()\n",
    "data['Neighborhood'] = df['Neighborhood']\n",
    "data['Borough'] = df['Borough']\n",
    "data['GeoID'] = df['GeoID']\n",
    "data['Total Population'] = df['total_population']\n",
    "data['Median HH Income'] = df['Median HH Income']\n",
    "data['Mean HH Income'] = df['Mean HH Income']\n",
    "data['Median Fam. Income'] = df['Median Fam. Income']\n",
    "totals = pd.DataFrame()\n",
    "totals['Neighborhood'] = ['NYC']\n",
    "totals['GeoID'] = ['None']\n",
    "totals['Total Population'] = [df['total_population'].sum()]\n",
    "\n",
    "for pair in pairs:\n",
    "    col = 'Total (est.) ' + pair[0]\n",
    "    col_pct = 'Share ' + pair[0]\n",
    "    ori = pair[1]\n",
    "    data[col_pct] = df[ori]\n",
    "    data[col] = df['total_population'].values * df[ori].values\n",
    "    data[col] = data[col].astype('int')\n",
    "    totals[col_pct] = round(data[col].sum() / totals['Total Population'], 4)\n",
    "    totals[col] = [data[col].sum()]\n",
    "\n",
    "# Engineer aggregate race/ethnicity data\n",
    "data['Share Black and/or Hispanic'] = round(\n",
    "    data['Share Black (non-Hispanic)'] + data['Share Hispanic (any race)'], 4\n",
    ")\n",
    "totals['Share Black and/or Hispanic'] = round(\n",
    "    totals['Share Black (non-Hispanic)'] + totals['Share Hispanic (any race)'], 4\n",
    ")"
   ]
  },
  {
   "cell_type": "code",
   "execution_count": 173,
   "id": "billion-arabic",
   "metadata": {
    "ExecuteTime": {
     "end_time": "2021-07-27T22:03:14.676517Z",
     "start_time": "2021-07-27T22:03:14.665418Z"
    }
   },
   "outputs": [],
   "source": [
    "# Function to flag outliers\n",
    "def remove_ol(x):\n",
    "    if ('99' in x) or ('98' in x):\n",
    "        return 1\n",
    "    else:\n",
    "        return 0\n",
    "\n",
    "# Remove outliers (ex. parks, Rikers Island)\n",
    "data['Drop'] = np.vectorize(remove_ol)(data['GeoID'].values)\n",
    "data = data.loc[data['Drop'] != 1]\n",
    "data.drop(columns='Drop', inplace=True)"
   ]
  },
  {
   "cell_type": "code",
   "execution_count": 174,
   "id": "expressed-ticket",
   "metadata": {
    "ExecuteTime": {
     "end_time": "2021-07-27T22:03:15.110951Z",
     "start_time": "2021-07-27T22:03:15.088733Z"
    }
   },
   "outputs": [
    {
     "data": {
      "text/html": [
       "<div>\n",
       "<style scoped>\n",
       "    .dataframe tbody tr th:only-of-type {\n",
       "        vertical-align: middle;\n",
       "    }\n",
       "\n",
       "    .dataframe tbody tr th {\n",
       "        vertical-align: top;\n",
       "    }\n",
       "\n",
       "    .dataframe thead th {\n",
       "        text-align: right;\n",
       "    }\n",
       "</style>\n",
       "<table border=\"1\" class=\"dataframe\">\n",
       "  <thead>\n",
       "    <tr style=\"text-align: right;\">\n",
       "      <th></th>\n",
       "      <th>Neighborhood</th>\n",
       "      <th>GeoID</th>\n",
       "      <th>Total Population</th>\n",
       "      <th>Share Black (non-Hispanic)</th>\n",
       "      <th>Total (est.) Black (non-Hispanic)</th>\n",
       "      <th>Share White (non-Hispanic)</th>\n",
       "      <th>Total (est.) White (non-Hispanic)</th>\n",
       "      <th>Share Asian (non-Hispanic)</th>\n",
       "      <th>Total (est.) Asian (non-Hispanic)</th>\n",
       "      <th>Share AmInd/AmNat (non-Hispanic)</th>\n",
       "      <th>Total (est.) AmInd/AmNat (non-Hispanic)</th>\n",
       "      <th>Share NatHawaiian/PacIs (non-Hispanic)</th>\n",
       "      <th>Total (est.) NatHawaiian/PacIs (non-Hispanic)</th>\n",
       "      <th>Share Other (non-Hispanic)</th>\n",
       "      <th>Total (est.) Other (non-Hispanic)</th>\n",
       "      <th>Share 2 or more races (non-Hispanic)</th>\n",
       "      <th>Total (est.) 2 or more races (non-Hispanic)</th>\n",
       "      <th>Share Hispanic (any race)</th>\n",
       "      <th>Total (est.) Hispanic (any race)</th>\n",
       "      <th>Share Under 18</th>\n",
       "      <th>Total (est.) Under 18</th>\n",
       "      <th>Share Mobile Dep.</th>\n",
       "      <th>Total (est.) Mobile Dep.</th>\n",
       "      <th>Share BB Adoption</th>\n",
       "      <th>Total (est.) BB Adoption</th>\n",
       "      <th>Share Blocks w/o Fiber</th>\n",
       "      <th>Total (est.) Blocks w/o Fiber</th>\n",
       "      <th>Share Black and/or Hispanic</th>\n",
       "    </tr>\n",
       "  </thead>\n",
       "  <tbody>\n",
       "    <tr>\n",
       "      <th>0</th>\n",
       "      <td>NYC</td>\n",
       "      <td>None</td>\n",
       "      <td>8419316</td>\n",
       "      <td>0.2229</td>\n",
       "      <td>1876663</td>\n",
       "      <td>0.3242</td>\n",
       "      <td>2729281</td>\n",
       "      <td>0.1345</td>\n",
       "      <td>1132026</td>\n",
       "      <td>0.0018</td>\n",
       "      <td>14772</td>\n",
       "      <td>0.0004</td>\n",
       "      <td>3013</td>\n",
       "      <td>0.0088</td>\n",
       "      <td>73943</td>\n",
       "      <td>0.0179</td>\n",
       "      <td>150672</td>\n",
       "      <td>0.2896</td>\n",
       "      <td>2438502</td>\n",
       "      <td>0.2117</td>\n",
       "      <td>1782073</td>\n",
       "      <td>0.094</td>\n",
       "      <td>791220</td>\n",
       "      <td>0.7005</td>\n",
       "      <td>5897571</td>\n",
       "      <td>0.1011</td>\n",
       "      <td>850974</td>\n",
       "      <td>0.5125</td>\n",
       "    </tr>\n",
       "  </tbody>\n",
       "</table>\n",
       "</div>"
      ],
      "text/plain": [
       "  Neighborhood GeoID  Total Population  Share Black (non-Hispanic)  \\\n",
       "0          NYC  None           8419316                      0.2229   \n",
       "\n",
       "   Total (est.) Black (non-Hispanic)  Share White (non-Hispanic)  \\\n",
       "0                            1876663                      0.3242   \n",
       "\n",
       "   Total (est.) White (non-Hispanic)  Share Asian (non-Hispanic)  \\\n",
       "0                            2729281                      0.1345   \n",
       "\n",
       "   Total (est.) Asian (non-Hispanic)  Share AmInd/AmNat (non-Hispanic)  \\\n",
       "0                            1132026                            0.0018   \n",
       "\n",
       "   Total (est.) AmInd/AmNat (non-Hispanic)  \\\n",
       "0                                    14772   \n",
       "\n",
       "   Share NatHawaiian/PacIs (non-Hispanic)  \\\n",
       "0                                  0.0004   \n",
       "\n",
       "   Total (est.) NatHawaiian/PacIs (non-Hispanic)  Share Other (non-Hispanic)  \\\n",
       "0                                           3013                      0.0088   \n",
       "\n",
       "   Total (est.) Other (non-Hispanic)  Share 2 or more races (non-Hispanic)  \\\n",
       "0                              73943                                0.0179   \n",
       "\n",
       "   Total (est.) 2 or more races (non-Hispanic)  Share Hispanic (any race)  \\\n",
       "0                                       150672                     0.2896   \n",
       "\n",
       "   Total (est.) Hispanic (any race)  Share Under 18  Total (est.) Under 18  \\\n",
       "0                           2438502          0.2117                1782073   \n",
       "\n",
       "   Share Mobile Dep.  Total (est.) Mobile Dep.  Share BB Adoption  \\\n",
       "0              0.094                    791220             0.7005   \n",
       "\n",
       "   Total (est.) BB Adoption  Share Blocks w/o Fiber  \\\n",
       "0                   5897571                  0.1011   \n",
       "\n",
       "   Total (est.) Blocks w/o Fiber  Share Black and/or Hispanic  \n",
       "0                         850974                       0.5125  "
      ]
     },
     "execution_count": 174,
     "metadata": {},
     "output_type": "execute_result"
    }
   ],
   "source": [
    "totals"
   ]
  },
  {
   "cell_type": "code",
   "execution_count": 175,
   "id": "incorporate-portal",
   "metadata": {
    "ExecuteTime": {
     "end_time": "2021-07-27T22:03:16.276996Z",
     "start_time": "2021-07-27T22:03:16.056179Z"
    }
   },
   "outputs": [
    {
     "data": {
      "image/png": "[encoded data removed]",
      "text/plain": [
       "<Figure size 432x288 with 1 Axes>"
      ]
     },
     "metadata": {
      "needs_background": "light"
     },
     "output_type": "display_data"
    }
   ],
   "source": [
    "sns.histplot(data=data, x='Share Mobile Dep.')\n",
    "plt.show()"
   ]
  },
  {
   "cell_type": "code",
   "execution_count": 205,
   "id": "alert-spring",
   "metadata": {
    "ExecuteTime": {
     "end_time": "2021-07-27T22:26:10.846207Z",
     "start_time": "2021-07-27T22:26:10.840874Z"
    }
   },
   "outputs": [],
   "source": [
    "def plot_cols(data, x, y, color, size, boro=None):\n",
    "    if boro:\n",
    "        data = data.loc[data['Borough'] == boro]\n",
    "\n",
    "    fig = px.scatter(\n",
    "        data_frame=data,\n",
    "        x=x,\n",
    "        y=y,\n",
    "        color=color,\n",
    "        size=size,\n",
    "        hover_name='Neighborhood',\n",
    "        hover_data=['Total Population', x, y, color, size, 'Borough'],\n",
    "#         color_continuous_scale='viridis',\n",
    "        title=f'{y} by {x}',\n",
    "        template='plotly_dark'\n",
    "    )\n",
    "    \n",
    "    return fig"
   ]
  },
  {
   "cell_type": "code",
   "execution_count": 206,
   "id": "italian-disney",
   "metadata": {
    "ExecuteTime": {
     "end_time": "2021-07-27T22:26:11.361161Z",
     "start_time": "2021-07-27T22:26:11.274455Z"
    }
   },
   "outputs": [
    {
     "data": {
      "application/vnd.plotly.v1+json": {
       "config": {
        "plotlyServerURL": "https://plot.ly"
       },
       "data": [
        {
         "customdata": [
          [
           33580,
           0.189,
           "Brooklyn"
          ],
          [
           78892,
           0.198,
           "Brooklyn"
          ],
          [
           79075,
           0.601,
           "Brooklyn"
          ],
          [
           65589,
           0.131,
           "Brooklyn"
          ],
          [
           89889,
           0.155,
           "Brooklyn"
          ],
          [
           99534,
           0.106,
           "Brooklyn"
          ],
          [
           34814,
           0.122,
           "Brooklyn"
          ],
          [
           23758,
           0.131,
           "Brooklyn"
          ],
          [
           51236,
           0.96,
           "Brooklyn"
          ],
          [
           56384,
           0.766,
           "Brooklyn"
          ],
          [
           72809,
           0.805,
           "Brooklyn"
          ],
          [
           88884,
           0.909,
           "Brooklyn"
          ],
          [
           43647,
           0.298,
           "Brooklyn"
          ],
          [
           39245,
           0.492,
           "Brooklyn"
          ],
          [
           111782,
           0.782,
           "Brooklyn"
          ],
          [
           39594,
           0.682,
           "Brooklyn"
          ],
          [
           48738,
           0.862,
           "Brooklyn"
          ],
          [
           46573,
           0.401,
           "Brooklyn"
          ],
          [
           43840,
           0.12,
           "Brooklyn"
          ],
          [
           51633,
           0.949,
           "Brooklyn"
          ],
          [
           99982,
           0.932,
           "Brooklyn"
          ],
          [
           28293,
           0.963,
           "Brooklyn"
          ],
          [
           36587,
           0.385,
           "Brooklyn"
          ],
          [
           28355,
           0.92,
           "Brooklyn"
          ],
          [
           104103,
           0.641,
           "Brooklyn"
          ],
          [
           70560,
           0.783,
           "Brooklyn"
          ],
          [
           32376,
           0.585,
           "Brooklyn"
          ],
          [
           46179,
           0.234,
           "Brooklyn"
          ],
          [
           30294,
           0.222,
           "Brooklyn"
          ],
          [
           34554,
           0.152,
           "Brooklyn"
          ],
          [
           44817,
           0.11,
           "Brooklyn"
          ],
          [
           34898,
           0.232,
           "Brooklyn"
          ],
          [
           41116,
           0.101,
           "Brooklyn"
          ],
          [
           53408,
           0.126,
           "Brooklyn"
          ],
          [
           57774,
           0.378,
           "Brooklyn"
          ],
          [
           36805,
           0.932,
           "Brooklyn"
          ],
          [
           20364,
           0.093,
           "Brooklyn"
          ],
          [
           74137,
           0.211,
           "Brooklyn"
          ],
          [
           22301,
           0.362,
           "Brooklyn"
          ],
          [
           67938,
           0.807,
           "Brooklyn"
          ],
          [
           54956,
           0.959,
           "Brooklyn"
          ],
          [
           31120,
           0.56,
           "Brooklyn"
          ],
          [
           65167,
           0.16,
           "Brooklyn"
          ],
          [
           12553,
           0.728,
           "Brooklyn"
          ],
          [
           70238,
           0.848,
           "Brooklyn"
          ],
          [
           64170,
           0.334,
           "Brooklyn"
          ],
          [
           53266,
           0.668,
           "Brooklyn"
          ],
          [
           17252,
           0.038,
           "Brooklyn"
          ],
          [
           33828,
           0.118,
           "Brooklyn"
          ],
          [
           22759,
           0.179,
           "Brooklyn"
          ],
          [
           46466,
           0.111,
           "Manhattan"
          ],
          [
           86144,
           0.857,
           "Manhattan"
          ],
          [
           49945,
           0.719,
           "Manhattan"
          ],
          [
           42766,
           0.202,
           "Manhattan"
          ],
          [
           52941,
           0.251,
           "Manhattan"
          ],
          [
           61330,
           0.836,
           "Manhattan"
          ],
          [
           58553,
           0.662,
           "Manhattan"
          ],
          [
           42950,
           0.159,
           "Manhattan"
          ],
          [
           26497,
           0.114,
           "Manhattan"
          ],
          [
           52510,
           0.754,
           "Manhattan"
          ],
          [
           77490,
           0.197,
           "Manhattan"
          ],
          [
           82085,
           0.129,
           "Manhattan"
          ],
          [
           63920,
           0.135,
           "Manhattan"
          ],
          [
           68838,
           0.506,
           "Manhattan"
          ],
          [
           23769,
           0.837,
           "Manhattan"
          ],
          [
           52529,
           0.809,
           "Manhattan"
          ],
          [
           27754,
           0.124,
           "Manhattan"
          ],
          [
           54801,
           0.331,
           "Manhattan"
          ],
          [
           49853,
           0.162,
           "Manhattan"
          ],
          [
           43835,
           0.09,
           "Manhattan"
          ],
          [
           22335,
           0.117,
           "Manhattan"
          ],
          [
           50121,
           0.083,
           "Manhattan"
          ],
          [
           54413,
           0.08,
           "Manhattan"
          ],
          [
           130223,
           0.236,
           "Manhattan"
          ],
          [
           72175,
           0.696,
           "Manhattan"
          ],
          [
           91865,
           0.829,
           "Manhattan"
          ],
          [
           65393,
           0.08,
           "Manhattan"
          ],
          [
           78459,
           0.134,
           "Manhattan"
          ],
          [
           74094,
           0.306,
           "Queens"
          ],
          [
           20240,
           0.143,
           "Queens"
          ],
          [
           37849,
           0.841,
           "Queens"
          ],
          [
           42718,
           0.15,
           "Queens"
          ],
          [
           27643,
           0.267,
           "Queens"
          ],
          [
           28004,
           0.184,
           "Queens"
          ],
          [
           43761,
           0.386,
           "Queens"
          ],
          [
           21032,
           0.957,
           "Queens"
          ],
          [
           24750,
           0.4,
           "Queens"
          ],
          [
           57146,
           0.777,
           "Queens"
          ],
          [
           25400,
           0.135,
           "Queens"
          ],
          [
           18752,
           0.849,
           "Queens"
          ],
          [
           25274,
           0.208,
           "Queens"
          ],
          [
           82536,
           0.453,
           "Queens"
          ],
          [
           23789,
           0.278,
           "Queens"
          ],
          [
           57757,
           0.681,
           "Queens"
          ],
          [
           68600,
           0.187,
           "Queens"
          ],
          [
           87668,
           0.18,
           "Queens"
          ],
          [
           19500,
           0.155,
           "Queens"
          ],
          [
           21990,
           0.147,
           "Queens"
          ],
          [
           24631,
           0.142,
           "Queens"
          ],
          [
           35677,
           0.357,
           "Queens"
          ],
          [
           42665,
           0.755,
           "Queens"
          ],
          [
           20714,
           0.697,
           "Queens"
          ],
          [
           69649,
           0.361,
           "Queens"
          ],
          [
           98046,
           0.583,
           "Queens"
          ],
          [
           54754,
           0.53,
           "Queens"
          ],
          [
           27296,
           0.381,
           "Queens"
          ],
          [
           22376,
           0.311,
           "Queens"
          ],
          [
           37538,
           0.203,
           "Queens"
          ],
          [
           25941,
           0.95,
           "Queens"
          ],
          [
           28313,
           0.236,
           "Queens"
          ],
          [
           33329,
           0.319,
           "Queens"
          ],
          [
           41442,
           0.187,
           "Queens"
          ],
          [
           50102,
           0.161,
           "Queens"
          ],
          [
           54859,
           0.912,
           "Queens"
          ],
          [
           29840,
           0.107,
           "Queens"
          ],
          [
           23694,
           0.423,
           "Queens"
          ],
          [
           23966,
           0.493,
           "Queens"
          ],
          [
           35946,
           0.321,
           "Queens"
          ],
          [
           54518,
           0.646,
           "Queens"
          ],
          [
           20166,
           0.182,
           "Queens"
          ],
          [
           18938,
           0.594,
           "Queens"
          ],
          [
           28213,
           0.208,
           "Queens"
          ],
          [
           65274,
           0.444,
           "Queens"
          ],
          [
           76103,
           0.497,
           "Queens"
          ],
          [
           26680,
           0.926,
           "Queens"
          ],
          [
           43789,
           0.828,
           "Queens"
          ],
          [
           80664,
           0.442,
           "Queens"
          ],
          [
           27046,
           0.955,
           "Queens"
          ],
          [
           22196,
           0.935,
           "Queens"
          ],
          [
           53151,
           0.942,
           "Queens"
          ],
          [
           47234,
           0.229,
           "Queens"
          ],
          [
           31749,
           0.148,
           "Queens"
          ],
          [
           60377,
           0.575,
           "Queens"
          ],
          [
           41942,
           0.361,
           "Queens"
          ],
          [
           29801,
           0.076,
           "Staten Island"
          ],
          [
           26887,
           0.142,
           "Staten Island"
          ],
          [
           23834,
           0.105,
           "Staten Island"
          ],
          [
           16417,
           0.207,
           "Staten Island"
          ],
          [
           41724,
           0.09,
           "Staten Island"
          ],
          [
           21480,
           0.58,
           "Staten Island"
          ],
          [
           32780,
           0.648,
           "Staten Island"
          ],
          [
           17349,
           0.386,
           "Staten Island"
          ],
          [
           21208,
           0.152,
           "Staten Island"
          ],
          [
           42160,
           0.192,
           "Staten Island"
          ],
          [
           20485,
           0.147,
           "Staten Island"
          ],
          [
           26447,
           0.203,
           "Staten Island"
          ],
          [
           19293,
           0.501,
           "Staten Island"
          ],
          [
           21870,
           0.094,
           "Staten Island"
          ],
          [
           25281,
           0.518,
           "Staten Island"
          ],
          [
           32077,
           0.125,
           "Staten Island"
          ],
          [
           31284,
           0.661,
           "Staten Island"
          ],
          [
           24516,
           0.192,
           "Staten Island"
          ],
          [
           31097,
           0.67,
           "The Bronx"
          ],
          [
           58354,
           0.884,
           "The Bronx"
          ],
          [
           28962,
           0.77,
           "The Bronx"
          ],
          [
           38814,
           0.827,
           "The Bronx"
          ],
          [
           35190,
           0.979,
           "The Bronx"
          ],
          [
           46725,
           0.888,
           "The Bronx"
          ],
          [
           22409,
           0.971,
           "The Bronx"
          ],
          [
           64459,
           0.939,
           "The Bronx"
          ],
          [
           44166,
           0.971,
           "The Bronx"
          ],
          [
           38367,
           0.906,
           "The Bronx"
          ],
          [
           28366,
           0.974,
           "The Bronx"
          ],
          [
           38629,
           0.975,
           "The Bronx"
          ],
          [
           26181,
           0.976,
           "The Bronx"
          ],
          [
           33742,
           0.905,
           "The Bronx"
          ],
          [
           27974,
           0.963,
           "The Bronx"
          ],
          [
           42877,
           0.959,
           "The Bronx"
          ],
          [
           41100,
           0.963,
           "The Bronx"
          ],
          [
           52835,
           0.97,
           "The Bronx"
          ],
          [
           54076,
           0.95,
           "The Bronx"
          ],
          [
           28157,
           0.279,
           "The Bronx"
          ],
          [
           40032,
           0.766,
           "The Bronx"
          ],
          [
           30318,
           0.793,
           "The Bronx"
          ],
          [
           27262,
           0.425,
           "The Bronx"
          ],
          [
           28608,
           0.574,
           "The Bronx"
          ],
          [
           45634,
           0.546,
           "The Bronx"
          ],
          [
           36454,
           0.871,
           "The Bronx"
          ],
          [
           55000,
           0.944,
           "The Bronx"
          ],
          [
           31123,
           0.482,
           "The Bronx"
          ],
          [
           57214,
           0.966,
           "The Bronx"
          ],
          [
           50658,
           0.846,
           "The Bronx"
          ],
          [
           28214,
           0.632,
           "The Bronx"
          ],
          [
           38312,
           0.938,
           "The Bronx"
          ],
          [
           35319,
           0.897,
           "The Bronx"
          ],
          [
           28444,
           0.787,
           "The Bronx"
          ],
          [
           67724,
           0.944,
           "The Bronx"
          ],
          [
           44715,
           0.768,
           "The Bronx"
          ]
         ],
         "hovertemplate": "<b>%{hovertext}</b><br><br>Share Under 18=%{x}<br>Share BB Adoption=%{y}<br>Total Population=%{customdata[0]}<br>Share Black and/or Hispanic=%{marker.color}<br>Borough=%{customdata[2]}<extra></extra>",
         "hovertext": [
          "Bath Beach",
          "Bay Ridge",
          "Bedford",
          "Bensonhurst East",
          "Bensonhurst West",
          "Borough Park",
          "Brighton Beach",
          "Brooklyn Heights-Cobble Hill",
          "Brownsville",
          "Bushwick North",
          "Bushwick South",
          "Canarsie",
          "Carroll Gardens-Columbia Street-Red Hook",
          "Clinton Hill",
          "Crown Heights North",
          "Crown Heights South",
          "Cypress Hills-City Line",
          "DUMBO-Vinegar Hill-Downtown Brooklyn-Boerum Hill",
          "Dyker Heights",
          "East Flatbush-Farragut",
          "East New York",
          "East New York (Pennsylvania Ave)",
          "East Williamsburg",
          "Erasmus",
          "Flatbush",
          "Flatlands",
          "Fort Greene",
          "Georgetown-Marine Park-Bergen Beach-Mill Basin",
          "Gravesend",
          "Greenpoint",
          "Homecrest",
          "Kensington-Ocean Parkway",
          "Madison",
          "Midwood",
          "North Side-South Side",
          "Ocean Hill",
          "Ocean Parkway South",
          "Park Slope-Gowanus",
          "Prospect Heights",
          "Prospect Lefferts Gardens-Wingate",
          "Rugby-Remsen Village",
          "Seagate-Coney Island",
          "Sheepshead Bay-Gerritsen Beach-Manhattan Beach",
          "Starrett City",
          "Stuyvesant Heights",
          "Sunset Park East",
          "Sunset Park West",
          "West Brighton",
          "Williamsburg",
          "Windsor Terrace",
          "Battery Park City-Lower Manhattan",
          "Central Harlem North-Polo Grounds",
          "Central Harlem South",
          "Chinatown",
          "Clinton",
          "East Harlem North",
          "East Harlem South",
          "East Village",
          "Gramercy",
          "Hamilton Heights",
          "Hudson Yards-Chelsea-Flat Iron-Union Square",
          "Lenox Hill-Roosevelt Island",
          "Lincoln Square",
          "Lower East Side",
          "Manhattanville",
          "Marble Hill-Inwood",
          "Midtown-Midtown South",
          "Morningside Heights",
          "Murray Hill-Kips Bay",
          "SoHo-TriBeCa-Civic Center-Little Italy",
          "Stuyvesant Town-Cooper Village",
          "Turtle Bay-East Midtown",
          "Upper East Side-Carnegie Hill",
          "Upper West Side",
          "Washington Heights North",
          "Washington Heights South",
          "West Village",
          "Yorkville",
          "Astoria",
          "Auburndale",
          "Baisley Park",
          "Bayside-Bayside Hills",
          "Bellerose",
          "Breezy Point-Belle Harbor-Rockaway Park-Broad Channel",
          "Briarwood-Jamaica Hills",
          "Cambria Heights",
          "College Point",
          "Corona",
          "Douglas Manor-Douglaston-Little Neck",
          "East Elmhurst",
          "East Flushing",
          "Elmhurst",
          "Elmhurst-Maspeth",
          "Far Rockaway-Bayswater",
          "Flushing",
          "Forest Hills",
          "Fresh Meadows-Utopia",
          "Ft. Totten-Bay Terrace-Clearview",
          "Glen Oaks-Floral Park-New Hyde Park",
          "Glendale",
          "Hammels-Arverne-Edgemere",
          "Hollis",
          "Hunters Point-Sunnyside-West Maspeth",
          "Jackson Heights",
          "Jamaica",
          "Jamaica Estates-Holliswood",
          "Kew Gardens",
          "Kew Gardens Hills",
          "Laurelton",
          "Lindenwood-Howard Beach",
          "Maspeth",
          "Middle Village",
          "Murray Hill",
          "North Corona",
          "Oakland Gardens",
          "Old Astoria",
          "Ozone Park",
          "Pomonok-Flushing Heights-Hillcrest",
          "Queens Village",
          "Queensboro Hill",
          "Queensbridge-Ravenswood-Long Island City",
          "Rego Park",
          "Richmond Hill",
          "Ridgewood",
          "Rosedale",
          "South Jamaica",
          "South Ozone Park",
          "Springfield Gardens North",
          "Springfield Gardens South-Brookville",
          "St. Albans",
          "Steinway",
          "Whitestone",
          "Woodhaven",
          "Woodside",
          "Annadale-Huguenot-Prince's Bay-Eltingville",
          "Arden Heights",
          "Charleston-Richmond Valley-Tottenville",
          "Grasmere-Arrochar-Ft. Wadsworth",
          "Great Kills",
          "Grymes Hill-Clifton-Fox Hills",
          "Mariner's Harbor-Arlington-Port Ivory-Graniteville",
          "New Brighton-Silver Lake",
          "New Dorp-Midland Beach",
          "New Springville-Bloomfield-Travis",
          "Oakwood-Oakwood Beach",
          "Old Town-Dongan Hills-South Beach",
          "Port Richmond",
          "Rossville-Woodrow",
          "Stapleton-Rosebank",
          "Todt Hill-Emerson Hill-Heartland Village-Lighthouse Hill",
          "West New Brighton-New Brighton-St. George",
          "Westerleigh",
          "Allerton-Pelham Gardens",
          "Bedford Park-Fordham North",
          "Belmont",
          "Bronxdale",
          "Claremont-Bathgate",
          "Co-op City",
          "Crotona Park East",
          "East Concourse-Concourse Village",
          "East Tremont",
          "Eastchester-Edenwald-Baychester",
          "Fordham South",
          "Highbridge",
          "Hunts Point",
          "Kingsbridge Heights",
          "Longwood",
          "Melrose South-Mott Haven North",
          "Morrisania-Melrose",
          "Mott Haven-Port Morris",
          "Mount Hope",
          "North Riverdale-Fieldston-Riverdale",
          "Norwood",
          "Parkchester",
          "Pelham Bay-Country Club-City Island",
          "Pelham Parkway",
          "Schuylerville-Throgs Neck-Edgewater Park",
          "Soundview-Bruckner",
          "Soundview-Castle Hill-Clason Point-Harding Park",
          "Spuyten Duyvil-Kingsbridge",
          "University Heights-Morris Heights",
          "Van Cortlandt Village",
          "Van Nest-Morris Park-Westchester Square",
          "West Concourse",
          "West Farms-Bronx River",
          "Westchester-Unionport",
          "Williamsbridge-Olinville",
          "Woodlawn-Wakefield"
         ],
         "legendgroup": "",
         "marker": {
          "color": [
           0.189,
           0.198,
           0.601,
           0.131,
           0.155,
           0.106,
           0.122,
           0.131,
           0.96,
           0.766,
           0.805,
           0.909,
           0.298,
           0.492,
           0.782,
           0.682,
           0.862,
           0.401,
           0.12,
           0.949,
           0.932,
           0.963,
           0.385,
           0.92,
           0.641,
           0.783,
           0.585,
           0.234,
           0.222,
           0.152,
           0.11,
           0.232,
           0.101,
           0.126,
           0.378,
           0.932,
           0.093,
           0.211,
           0.362,
           0.807,
           0.959,
           0.56,
           0.16,
           0.728,
           0.848,
           0.334,
           0.668,
           0.038,
           0.118,
           0.179,
           0.111,
           0.857,
           0.719,
           0.202,
           0.251,
           0.836,
           0.662,
           0.159,
           0.114,
           0.754,
           0.197,
           0.129,
           0.135,
           0.506,
           0.837,
           0.809,
           0.124,
           0.331,
           0.162,
           0.09,
           0.117,
           0.083,
           0.08,
           0.236,
           0.696,
           0.829,
           0.08,
           0.134,
           0.306,
           0.143,
           0.841,
           0.15,
           0.267,
           0.184,
           0.386,
           0.957,
           0.4,
           0.777,
           0.135,
           0.849,
           0.208,
           0.453,
           0.278,
           0.681,
           0.187,
           0.18,
           0.155,
           0.147,
           0.142,
           0.357,
           0.755,
           0.697,
           0.361,
           0.583,
           0.53,
           0.381,
           0.311,
           0.203,
           0.95,
           0.236,
           0.319,
           0.187,
           0.161,
           0.912,
           0.107,
           0.423,
           0.493,
           0.321,
           0.646,
           0.182,
           0.594,
           0.208,
           0.444,
           0.497,
           0.926,
           0.828,
           0.442,
           0.955,
           0.935,
           0.942,
           0.229,
           0.148,
           0.575,
           0.361,
           0.076,
           0.142,
           0.105,
           0.207,
           0.09,
           0.58,
           0.648,
           0.386,
           0.152,
           0.192,
           0.147,
           0.203,
           0.501,
           0.094,
           0.518,
           0.125,
           0.661,
           0.192,
           0.67,
           0.884,
           0.77,
           0.827,
           0.979,
           0.888,
           0.971,
           0.939,
           0.971,
           0.906,
           0.974,
           0.975,
           0.976,
           0.905,
           0.963,
           0.959,
           0.963,
           0.97,
           0.95,
           0.279,
           0.766,
           0.793,
           0.425,
           0.574,
           0.546,
           0.871,
           0.944,
           0.482,
           0.966,
           0.846,
           0.632,
           0.938,
           0.897,
           0.787,
           0.944,
           0.768
          ],
          "coloraxis": "coloraxis",
          "symbol": "circle"
         },
         "mode": "markers",
         "name": "",
         "orientation": "v",
         "showlegend": false,
         "type": "scatter",
         "x": [
          0.214,
          0.191,
          0.297,
          0.19899999999999998,
          0.21,
          0.39299999999999996,
          0.185,
          0.136,
          0.276,
          0.228,
          0.213,
          0.228,
          0.203,
          0.18600000000000003,
          0.20600000000000002,
          0.242,
          0.256,
          0.177,
          0.22,
          0.217,
          0.275,
          0.29,
          0.132,
          0.248,
          0.242,
          0.22899999999999998,
          0.18100000000000002,
          0.242,
          0.214,
          0.10099999999999999,
          0.281,
          0.27699999999999997,
          0.20800000000000002,
          0.272,
          0.17800000000000002,
          0.278,
          0.324,
          0.196,
          0.161,
          0.218,
          0.213,
          0.235,
          0.18899999999999997,
          0.179,
          0.225,
          0.262,
          0.225,
          0.091,
          0.479,
          0.21600000000000003,
          0.149,
          0.22,
          0.207,
          0.121,
          0.057999999999999996,
          0.239,
          0.18600000000000003,
          0.051,
          0.061,
          0.17600000000000002,
          0.10400000000000001,
          0.146,
          0.13699999999999998,
          0.154,
          0.182,
          0.212,
          0.071,
          0.128,
          0.096,
          0.153,
          0.10300000000000001,
          0.085,
          0.171,
          0.158,
          0.171,
          0.165,
          0.08199999999999999,
          0.129,
          0.127,
          0.18600000000000003,
          0.23600000000000002,
          0.185,
          0.21100000000000002,
          0.221,
          0.18899999999999997,
          0.177,
          0.228,
          0.261,
          0.192,
          0.21600000000000003,
          0.161,
          0.196,
          0.17800000000000002,
          0.29600000000000004,
          0.161,
          0.182,
          0.182,
          0.152,
          0.142,
          0.204,
          0.293,
          0.203,
          0.162,
          0.19,
          0.242,
          0.201,
          0.21,
          0.233,
          0.207,
          0.196,
          0.213,
          0.185,
          0.16699999999999998,
          0.27,
          0.204,
          0.166,
          0.231,
          0.209,
          0.19,
          0.188,
          0.18600000000000003,
          0.157,
          0.233,
          0.23,
          0.22699999999999998,
          0.262,
          0.21600000000000003,
          0.21899999999999997,
          0.244,
          0.231,
          0.146,
          0.20199999999999999,
          0.23199999999999998,
          0.19399999999999998,
          0.207,
          0.22399999999999998,
          0.255,
          0.225,
          0.204,
          0.242,
          0.26,
          0.243,
          0.21600000000000003,
          0.217,
          0.184,
          0.193,
          0.21899999999999997,
          0.225,
          0.23199999999999998,
          0.2,
          0.272,
          0.212,
          0.21,
          0.268,
          0.278,
          0.23,
          0.345,
          0.17800000000000002,
          0.278,
          0.271,
          0.294,
          0.231,
          0.303,
          0.307,
          0.28600000000000003,
          0.244,
          0.298,
          0.317,
          0.276,
          0.311,
          0.27699999999999997,
          0.19,
          0.273,
          0.207,
          0.171,
          0.209,
          0.20600000000000002,
          0.28,
          0.24100000000000002,
          0.198,
          0.28300000000000003,
          0.237,
          0.26,
          0.275,
          0.265,
          0.23800000000000002,
          0.25,
          0.20800000000000002
         ],
         "xaxis": "x",
         "y": [
          0.751,
          0.7424,
          0.6009,
          0.7282,
          0.7177,
          0.4337,
          0.6653,
          0.864,
          0.5569,
          0.6088,
          0.6089,
          0.7856,
          0.8068,
          0.7777,
          0.6711,
          0.6807,
          0.7367,
          0.8074,
          0.7519,
          0.7337,
          0.6988,
          0.625,
          0.7277,
          0.6354,
          0.6925,
          0.7764,
          0.7789,
          0.7959,
          0.7193,
          0.7565,
          0.748,
          0.7349,
          0.7737,
          0.6732,
          0.7637,
          0.6518,
          0.6624,
          0.8596,
          0.8663,
          0.6642,
          0.6704,
          0.5547,
          0.7729,
          0.6269,
          0.6545,
          0.644,
          0.654,
          0.6682,
          0.2418,
          0.8516,
          0.911,
          0.6675,
          0.7333,
          0.5684,
          0.7964,
          0.5858,
          0.625,
          0.684,
          0.8664,
          0.7633,
          0.8333,
          0.8516,
          0.8663,
          0.4776,
          0.6768,
          0.652,
          0.8517,
          0.7519,
          0.8415,
          0.8245,
          0.8444,
          0.8651,
          0.8638,
          0.8166,
          0.724,
          0.6704,
          0.855,
          0.8504,
          0.7763,
          0.7593,
          0.5861,
          0.7994,
          0.7918,
          0.7306,
          0.7577,
          0.7588,
          0.6219,
          0.6236,
          0.8049,
          0.7284,
          0.6598,
          0.6887,
          0.7587,
          0.6508,
          0.4707,
          0.7698,
          0.8607,
          0.7555,
          0.7549,
          0.7673,
          0.6747,
          0.5873,
          0.8083,
          0.7613,
          0.655,
          0.7091,
          0.7344,
          0.7365,
          0.5515,
          0.7658,
          0.7738,
          0.7658,
          0.6118,
          0.6182,
          0.7787,
          0.7619,
          0.8082,
          0.703,
          0.7778,
          0.6185,
          0.656,
          0.7294,
          0.7496,
          0.7491,
          0.7532,
          0.6551,
          0.76,
          0.6197,
          0.5609,
          0.5307,
          0.8008,
          0.7648,
          0.7738,
          0.7471,
          0.7931,
          0.812,
          0.7857,
          0.7745,
          0.7913,
          0.6058,
          0.6406,
          0.7351,
          0.7668,
          0.7953,
          0.732,
          0.7188,
          0.6708,
          0.782,
          0.6903,
          0.7741,
          0.6189,
          0.7822,
          0.7076,
          0.6025,
          0.5908,
          0.5866,
          0.5466,
          0.6598,
          0.5979,
          0.5961,
          0.5407,
          0.6331,
          0.5823,
          0.568,
          0.5735,
          0.6115,
          0.6257,
          0.5784,
          0.607,
          0.5319,
          0.5672,
          0.7662,
          0.631,
          0.7335,
          0.7085,
          0.592,
          0.6753,
          0.6035,
          0.6619,
          0.7485,
          0.5884,
          0.6899,
          0.5929,
          0.5969,
          0.6043,
          0.6675,
          0.5898,
          0.591
         ],
         "yaxis": "y"
        }
       ],
       "layout": {
        "coloraxis": {
         "colorbar": {
          "title": {
           "text": "Share Black and/or Hispanic"
          }
         },
         "colorscale": [
          [
           0,
           "#0d0887"
          ],
          [
           0.1111111111111111,
           "#46039f"
          ],
          [
           0.2222222222222222,
           "#7201a8"
          ],
          [
           0.3333333333333333,
           "#9c179e"
          ],
          [
           0.4444444444444444,
           "#bd3786"
          ],
          [
           0.5555555555555556,
           "#d8576b"
          ],
          [
           0.6666666666666666,
           "#ed7953"
          ],
          [
           0.7777777777777778,
           "#fb9f3a"
          ],
          [
           0.8888888888888888,
           "#fdca26"
          ],
          [
           1,
           "#f0f921"
          ]
         ]
        },
        "legend": {
         "tracegroupgap": 0
        },
        "template": {
         "data": {
          "bar": [
           {
            "error_x": {
             "color": "#f2f5fa"
            },
            "error_y": {
             "color": "#f2f5fa"
            },
            "marker": {
             "line": {
              "color": "rgb(17,17,17)",
              "width": 0.5
             },
             "pattern": {
              "fillmode": "overlay",
              "size": 10,
              "solidity": 0.2
             }
            },
            "type": "bar"
           }
          ],
          "barpolar": [
           {
            "marker": {
             "line": {
              "color": "rgb(17,17,17)",
              "width": 0.5
             },
             "pattern": {
              "fillmode": "overlay",
              "size": 10,
              "solidity": 0.2
             }
            },
            "type": "barpolar"
           }
          ],
          "carpet": [
           {
            "aaxis": {
             "endlinecolor": "#A2B1C6",
             "gridcolor": "#506784",
             "linecolor": "#506784",
             "minorgridcolor": "#506784",
             "startlinecolor": "#A2B1C6"
            },
            "baxis": {
             "endlinecolor": "#A2B1C6",
             "gridcolor": "#506784",
             "linecolor": "#506784",
             "minorgridcolor": "#506784",
             "startlinecolor": "#A2B1C6"
            },
            "type": "carpet"
           }
          ],
          "choropleth": [
           {
            "colorbar": {
             "outlinewidth": 0,
             "ticks": ""
            },
            "type": "choropleth"
           }
          ],
          "contour": [
           {
            "colorbar": {
             "outlinewidth": 0,
             "ticks": ""
            },
            "colorscale": [
             [
              0,
              "#0d0887"
             ],
             [
              0.1111111111111111,
              "#46039f"
             ],
             [
              0.2222222222222222,
              "#7201a8"
             ],
             [
              0.3333333333333333,
              "#9c179e"
             ],
             [
              0.4444444444444444,
              "#bd3786"
             ],
             [
              0.5555555555555556,
              "#d8576b"
             ],
             [
              0.6666666666666666,
              "#ed7953"
             ],
             [
              0.7777777777777778,
              "#fb9f3a"
             ],
             [
              0.8888888888888888,
              "#fdca26"
             ],
             [
              1,
              "#f0f921"
             ]
            ],
            "type": "contour"
           }
          ],
          "contourcarpet": [
           {
            "colorbar": {
             "outlinewidth": 0,
             "ticks": ""
            },
            "type": "contourcarpet"
           }
          ],
          "heatmap": [
           {
            "colorbar": {
             "outlinewidth": 0,
             "ticks": ""
            },
            "colorscale": [
             [
              0,
              "#0d0887"
             ],
             [
              0.1111111111111111,
              "#46039f"
             ],
             [
              0.2222222222222222,
              "#7201a8"
             ],
             [
              0.3333333333333333,
              "#9c179e"
             ],
             [
              0.4444444444444444,
              "#bd3786"
             ],
             [
              0.5555555555555556,
              "#d8576b"
             ],
             [
              0.6666666666666666,
              "#ed7953"
             ],
             [
              0.7777777777777778,
              "#fb9f3a"
             ],
             [
              0.8888888888888888,
              "#fdca26"
             ],
             [
              1,
              "#f0f921"
             ]
            ],
            "type": "heatmap"
           }
          ],
          "heatmapgl": [
           {
            "colorbar": {
             "outlinewidth": 0,
             "ticks": ""
            },
            "colorscale": [
             [
              0,
              "#0d0887"
             ],
             [
              0.1111111111111111,
              "#46039f"
             ],
             [
              0.2222222222222222,
              "#7201a8"
             ],
             [
              0.3333333333333333,
              "#9c179e"
             ],
             [
              0.4444444444444444,
              "#bd3786"
             ],
             [
              0.5555555555555556,
              "#d8576b"
             ],
             [
              0.6666666666666666,
              "#ed7953"
             ],
             [
              0.7777777777777778,
              "#fb9f3a"
             ],
             [
              0.8888888888888888,
              "#fdca26"
             ],
             [
              1,
              "#f0f921"
             ]
            ],
            "type": "heatmapgl"
           }
          ],
          "histogram": [
           {
            "marker": {
             "pattern": {
              "fillmode": "overlay",
              "size": 10,
              "solidity": 0.2
             }
            },
            "type": "histogram"
           }
          ],
          "histogram2d": [
           {
            "colorbar": {
             "outlinewidth": 0,
             "ticks": ""
            },
            "colorscale": [
             [
              0,
              "#0d0887"
             ],
             [
              0.1111111111111111,
              "#46039f"
             ],
             [
              0.2222222222222222,
              "#7201a8"
             ],
             [
              0.3333333333333333,
              "#9c179e"
             ],
             [
              0.4444444444444444,
              "#bd3786"
             ],
             [
              0.5555555555555556,
              "#d8576b"
             ],
             [
              0.6666666666666666,
              "#ed7953"
             ],
             [
              0.7777777777777778,
              "#fb9f3a"
             ],
             [
              0.8888888888888888,
              "#fdca26"
             ],
             [
              1,
              "#f0f921"
             ]
            ],
            "type": "histogram2d"
           }
          ],
          "histogram2dcontour": [
           {
            "colorbar": {
             "outlinewidth": 0,
             "ticks": ""
            },
            "colorscale": [
             [
              0,
              "#0d0887"
             ],
             [
              0.1111111111111111,
              "#46039f"
             ],
             [
              0.2222222222222222,
              "#7201a8"
             ],
             [
              0.3333333333333333,
              "#9c179e"
             ],
             [
              0.4444444444444444,
              "#bd3786"
             ],
             [
              0.5555555555555556,
              "#d8576b"
             ],
             [
              0.6666666666666666,
              "#ed7953"
             ],
             [
              0.7777777777777778,
              "#fb9f3a"
             ],
             [
              0.8888888888888888,
              "#fdca26"
             ],
             [
              1,
              "#f0f921"
             ]
            ],
            "type": "histogram2dcontour"
           }
          ],
          "mesh3d": [
           {
            "colorbar": {
             "outlinewidth": 0,
             "ticks": ""
            },
            "type": "mesh3d"
           }
          ],
          "parcoords": [
           {
            "line": {
             "colorbar": {
              "outlinewidth": 0,
              "ticks": ""
             }
            },
            "type": "parcoords"
           }
          ],
          "pie": [
           {
            "automargin": true,
            "type": "pie"
           }
          ],
          "scatter": [
           {
            "marker": {
             "line": {
              "color": "#283442"
             }
            },
            "type": "scatter"
           }
          ],
          "scatter3d": [
           {
            "line": {
             "colorbar": {
              "outlinewidth": 0,
              "ticks": ""
             }
            },
            "marker": {
             "colorbar": {
              "outlinewidth": 0,
              "ticks": ""
             }
            },
            "type": "scatter3d"
           }
          ],
          "scattercarpet": [
           {
            "marker": {
             "colorbar": {
              "outlinewidth": 0,
              "ticks": ""
             }
            },
            "type": "scattercarpet"
           }
          ],
          "scattergeo": [
           {
            "marker": {
             "colorbar": {
              "outlinewidth": 0,
              "ticks": ""
             }
            },
            "type": "scattergeo"
           }
          ],
          "scattergl": [
           {
            "marker": {
             "line": {
              "color": "#283442"
             }
            },
            "type": "scattergl"
           }
          ],
          "scattermapbox": [
           {
            "marker": {
             "colorbar": {
              "outlinewidth": 0,
              "ticks": ""
             }
            },
            "type": "scattermapbox"
           }
          ],
          "scatterpolar": [
           {
            "marker": {
             "colorbar": {
              "outlinewidth": 0,
              "ticks": ""
             }
            },
            "type": "scatterpolar"
           }
          ],
          "scatterpolargl": [
           {
            "marker": {
             "colorbar": {
              "outlinewidth": 0,
              "ticks": ""
             }
            },
            "type": "scatterpolargl"
           }
          ],
          "scatterternary": [
           {
            "marker": {
             "colorbar": {
              "outlinewidth": 0,
              "ticks": ""
             }
            },
            "type": "scatterternary"
           }
          ],
          "surface": [
           {
            "colorbar": {
             "outlinewidth": 0,
             "ticks": ""
            },
            "colorscale": [
             [
              0,
              "#0d0887"
             ],
             [
              0.1111111111111111,
              "#46039f"
             ],
             [
              0.2222222222222222,
              "#7201a8"
             ],
             [
              0.3333333333333333,
              "#9c179e"
             ],
             [
              0.4444444444444444,
              "#bd3786"
             ],
             [
              0.5555555555555556,
              "#d8576b"
             ],
             [
              0.6666666666666666,
              "#ed7953"
             ],
             [
              0.7777777777777778,
              "#fb9f3a"
             ],
             [
              0.8888888888888888,
              "#fdca26"
             ],
             [
              1,
              "#f0f921"
             ]
            ],
            "type": "surface"
           }
          ],
          "table": [
           {
            "cells": {
             "fill": {
              "color": "#506784"
             },
             "line": {
              "color": "rgb(17,17,17)"
             }
            },
            "header": {
             "fill": {
              "color": "#2a3f5f"
             },
             "line": {
              "color": "rgb(17,17,17)"
             }
            },
            "type": "table"
           }
          ]
         },
         "layout": {
          "annotationdefaults": {
           "arrowcolor": "#f2f5fa",
           "arrowhead": 0,
           "arrowwidth": 1
          },
          "autotypenumbers": "strict",
          "coloraxis": {
           "colorbar": {
            "outlinewidth": 0,
            "ticks": ""
           }
          },
          "colorscale": {
           "diverging": [
            [
             0,
             "#8e0152"
            ],
            [
             0.1,
             "#c51b7d"
            ],
            [
             0.2,
             "#de77ae"
            ],
            [
             0.3,
             "#f1b6da"
            ],
            [
             0.4,
             "#fde0ef"
            ],
            [
             0.5,
             "#f7f7f7"
            ],
            [
             0.6,
             "#e6f5d0"
            ],
            [
             0.7,
             "#b8e186"
            ],
            [
             0.8,
             "#7fbc41"
            ],
            [
             0.9,
             "#4d9221"
            ],
            [
             1,
             "#276419"
            ]
           ],
           "sequential": [
            [
             0,
             "#0d0887"
            ],
            [
             0.1111111111111111,
             "#46039f"
            ],
            [
             0.2222222222222222,
             "#7201a8"
            ],
            [
             0.3333333333333333,
             "#9c179e"
            ],
            [
             0.4444444444444444,
             "#bd3786"
            ],
            [
             0.5555555555555556,
             "#d8576b"
            ],
            [
             0.6666666666666666,
             "#ed7953"
            ],
            [
             0.7777777777777778,
             "#fb9f3a"
            ],
            [
             0.8888888888888888,
             "#fdca26"
            ],
            [
             1,
             "#f0f921"
            ]
           ],
           "sequentialminus": [
            [
             0,
             "#0d0887"
            ],
            [
             0.1111111111111111,
             "#46039f"
            ],
            [
             0.2222222222222222,
             "#7201a8"
            ],
            [
             0.3333333333333333,
             "#9c179e"
            ],
            [
             0.4444444444444444,
             "#bd3786"
            ],
            [
             0.5555555555555556,
             "#d8576b"
            ],
            [
             0.6666666666666666,
             "#ed7953"
            ],
            [
             0.7777777777777778,
             "#fb9f3a"
            ],
            [
             0.8888888888888888,
             "#fdca26"
            ],
            [
             1,
             "#f0f921"
            ]
           ]
          },
          "colorway": [
           "#636efa",
           "#EF553B",
           "#00cc96",
           "#ab63fa",
           "#FFA15A",
           "#19d3f3",
           "#FF6692",
           "#B6E880",
           "#FF97FF",
           "#FECB52"
          ],
          "font": {
           "color": "#f2f5fa"
          },
          "geo": {
           "bgcolor": "rgb(17,17,17)",
           "lakecolor": "rgb(17,17,17)",
           "landcolor": "rgb(17,17,17)",
           "showlakes": true,
           "showland": true,
           "subunitcolor": "#506784"
          },
          "hoverlabel": {
           "align": "left"
          },
          "hovermode": "closest",
          "mapbox": {
           "style": "dark"
          },
          "paper_bgcolor": "rgb(17,17,17)",
          "plot_bgcolor": "rgb(17,17,17)",
          "polar": {
           "angularaxis": {
            "gridcolor": "#506784",
            "linecolor": "#506784",
            "ticks": ""
           },
           "bgcolor": "rgb(17,17,17)",
           "radialaxis": {
            "gridcolor": "#506784",
            "linecolor": "#506784",
            "ticks": ""
           }
          },
          "scene": {
           "xaxis": {
            "backgroundcolor": "rgb(17,17,17)",
            "gridcolor": "#506784",
            "gridwidth": 2,
            "linecolor": "#506784",
            "showbackground": true,
            "ticks": "",
            "zerolinecolor": "#C8D4E3"
           },
           "yaxis": {
            "backgroundcolor": "rgb(17,17,17)",
            "gridcolor": "#506784",
            "gridwidth": 2,
            "linecolor": "#506784",
            "showbackground": true,
            "ticks": "",
            "zerolinecolor": "#C8D4E3"
           },
           "zaxis": {
            "backgroundcolor": "rgb(17,17,17)",
            "gridcolor": "#506784",
            "gridwidth": 2,
            "linecolor": "#506784",
            "showbackground": true,
            "ticks": "",
            "zerolinecolor": "#C8D4E3"
           }
          },
          "shapedefaults": {
           "line": {
            "color": "#f2f5fa"
           }
          },
          "sliderdefaults": {
           "bgcolor": "#C8D4E3",
           "bordercolor": "rgb(17,17,17)",
           "borderwidth": 1,
           "tickwidth": 0
          },
          "ternary": {
           "aaxis": {
            "gridcolor": "#506784",
            "linecolor": "#506784",
            "ticks": ""
           },
           "baxis": {
            "gridcolor": "#506784",
            "linecolor": "#506784",
            "ticks": ""
           },
           "bgcolor": "rgb(17,17,17)",
           "caxis": {
            "gridcolor": "#506784",
            "linecolor": "#506784",
            "ticks": ""
           }
          },
          "title": {
           "x": 0.05
          },
          "updatemenudefaults": {
           "bgcolor": "#506784",
           "borderwidth": 0
          },
          "xaxis": {
           "automargin": true,
           "gridcolor": "#283442",
           "linecolor": "#506784",
           "ticks": "",
           "title": {
            "standoff": 15
           },
           "zerolinecolor": "#283442",
           "zerolinewidth": 2
          },
          "yaxis": {
           "automargin": true,
           "gridcolor": "#283442",
           "linecolor": "#506784",
           "ticks": "",
           "title": {
            "standoff": 15
           },
           "zerolinecolor": "#283442",
           "zerolinewidth": 2
          }
         }
        },
        "title": {
         "text": "Share BB Adoption by Share Under 18"
        },
        "xaxis": {
         "anchor": "y",
         "domain": [
          0,
          1
         ],
         "title": {
          "text": "Share Under 18"
         }
        },
        "yaxis": {
         "anchor": "x",
         "domain": [
          0,
          1
         ],
         "title": {
          "text": "Share BB Adoption"
         }
        }
       }
      },
      "text/html": [
       "<div>                            <div id=\"27959a79-e182-4dfb-a08f-70443b86670a\" class=\"plotly-graph-div\" style=\"height:525px; width:100%;\"></div>            <script type=\"text/javascript\">                require([\"plotly\"], function(Plotly) {                    window.PLOTLYENV=window.PLOTLYENV || {};                                    if (document.getElementById(\"27959a79-e182-4dfb-a08f-70443b86670a\")) {                    Plotly.newPlot(                        \"27959a79-e182-4dfb-a08f-70443b86670a\",                        [{\"customdata\":[[33580,0.189,\"Brooklyn\"],[78892,0.198,\"Brooklyn\"],[79075,0.601,\"Brooklyn\"],[65589,0.131,\"Brooklyn\"],[89889,0.155,\"Brooklyn\"],[99534,0.106,\"Brooklyn\"],[34814,0.122,\"Brooklyn\"],[23758,0.131,\"Brooklyn\"],[51236,0.96,\"Brooklyn\"],[56384,0.766,\"Brooklyn\"],[72809,0.805,\"Brooklyn\"],[88884,0.909,\"Brooklyn\"],[43647,0.298,\"Brooklyn\"],[39245,0.492,\"Brooklyn\"],[111782,0.782,\"Brooklyn\"],[39594,0.682,\"Brooklyn\"],[48738,0.862,\"Brooklyn\"],[46573,0.401,\"Brooklyn\"],[43840,0.12,\"Brooklyn\"],[51633,0.949,\"Brooklyn\"],[99982,0.932,\"Brooklyn\"],[28293,0.963,\"Brooklyn\"],[36587,0.385,\"Brooklyn\"],[28355,0.92,\"Brooklyn\"],[104103,0.641,\"Brooklyn\"],[70560,0.783,\"Brooklyn\"],[32376,0.585,\"Brooklyn\"],[46179,0.234,\"Brooklyn\"],[30294,0.222,\"Brooklyn\"],[34554,0.152,\"Brooklyn\"],[44817,0.11,\"Brooklyn\"],[34898,0.232,\"Brooklyn\"],[41116,0.101,\"Brooklyn\"],[53408,0.126,\"Brooklyn\"],[57774,0.378,\"Brooklyn\"],[36805,0.932,\"Brooklyn\"],[20364,0.093,\"Brooklyn\"],[74137,0.211,\"Brooklyn\"],[22301,0.362,\"Brooklyn\"],[67938,0.807,\"Brooklyn\"],[54956,0.959,\"Brooklyn\"],[31120,0.56,\"Brooklyn\"],[65167,0.16,\"Brooklyn\"],[12553,0.728,\"Brooklyn\"],[70238,0.848,\"Brooklyn\"],[64170,0.334,\"Brooklyn\"],[53266,0.668,\"Brooklyn\"],[17252,0.038,\"Brooklyn\"],[33828,0.118,\"Brooklyn\"],[22759,0.179,\"Brooklyn\"],[46466,0.111,\"Manhattan\"],[86144,0.857,\"Manhattan\"],[49945,0.719,\"Manhattan\"],[42766,0.202,\"Manhattan\"],[52941,0.251,\"Manhattan\"],[61330,0.836,\"Manhattan\"],[58553,0.662,\"Manhattan\"],[42950,0.159,\"Manhattan\"],[26497,0.114,\"Manhattan\"],[52510,0.754,\"Manhattan\"],[77490,0.197,\"Manhattan\"],[82085,0.129,\"Manhattan\"],[63920,0.135,\"Manhattan\"],[68838,0.506,\"Manhattan\"],[23769,0.837,\"Manhattan\"],[52529,0.809,\"Manhattan\"],[27754,0.124,\"Manhattan\"],[54801,0.331,\"Manhattan\"],[49853,0.162,\"Manhattan\"],[43835,0.09,\"Manhattan\"],[22335,0.117,\"Manhattan\"],[50121,0.083,\"Manhattan\"],[54413,0.08,\"Manhattan\"],[130223,0.236,\"Manhattan\"],[72175,0.696,\"Manhattan\"],[91865,0.829,\"Manhattan\"],[65393,0.08,\"Manhattan\"],[78459,0.134,\"Manhattan\"],[74094,0.306,\"Queens\"],[20240,0.143,\"Queens\"],[37849,0.841,\"Queens\"],[42718,0.15,\"Queens\"],[27643,0.267,\"Queens\"],[28004,0.184,\"Queens\"],[43761,0.386,\"Queens\"],[21032,0.957,\"Queens\"],[24750,0.4,\"Queens\"],[57146,0.777,\"Queens\"],[25400,0.135,\"Queens\"],[18752,0.849,\"Queens\"],[25274,0.208,\"Queens\"],[82536,0.453,\"Queens\"],[23789,0.278,\"Queens\"],[57757,0.681,\"Queens\"],[68600,0.187,\"Queens\"],[87668,0.18,\"Queens\"],[19500,0.155,\"Queens\"],[21990,0.147,\"Queens\"],[24631,0.142,\"Queens\"],[35677,0.357,\"Queens\"],[42665,0.755,\"Queens\"],[20714,0.697,\"Queens\"],[69649,0.361,\"Queens\"],[98046,0.583,\"Queens\"],[54754,0.53,\"Queens\"],[27296,0.381,\"Queens\"],[22376,0.311,\"Queens\"],[37538,0.203,\"Queens\"],[25941,0.95,\"Queens\"],[28313,0.236,\"Queens\"],[33329,0.319,\"Queens\"],[41442,0.187,\"Queens\"],[50102,0.161,\"Queens\"],[54859,0.912,\"Queens\"],[29840,0.107,\"Queens\"],[23694,0.423,\"Queens\"],[23966,0.493,\"Queens\"],[35946,0.321,\"Queens\"],[54518,0.646,\"Queens\"],[20166,0.182,\"Queens\"],[18938,0.594,\"Queens\"],[28213,0.208,\"Queens\"],[65274,0.444,\"Queens\"],[76103,0.497,\"Queens\"],[26680,0.926,\"Queens\"],[43789,0.828,\"Queens\"],[80664,0.442,\"Queens\"],[27046,0.955,\"Queens\"],[22196,0.935,\"Queens\"],[53151,0.942,\"Queens\"],[47234,0.229,\"Queens\"],[31749,0.148,\"Queens\"],[60377,0.575,\"Queens\"],[41942,0.361,\"Queens\"],[29801,0.076,\"Staten Island\"],[26887,0.142,\"Staten Island\"],[23834,0.105,\"Staten Island\"],[16417,0.207,\"Staten Island\"],[41724,0.09,\"Staten Island\"],[21480,0.58,\"Staten Island\"],[32780,0.648,\"Staten Island\"],[17349,0.386,\"Staten Island\"],[21208,0.152,\"Staten Island\"],[42160,0.192,\"Staten Island\"],[20485,0.147,\"Staten Island\"],[26447,0.203,\"Staten Island\"],[19293,0.501,\"Staten Island\"],[21870,0.094,\"Staten Island\"],[25281,0.518,\"Staten Island\"],[32077,0.125,\"Staten Island\"],[31284,0.661,\"Staten Island\"],[24516,0.192,\"Staten Island\"],[31097,0.67,\"The Bronx\"],[58354,0.884,\"The Bronx\"],[28962,0.77,\"The Bronx\"],[38814,0.827,\"The Bronx\"],[35190,0.979,\"The Bronx\"],[46725,0.888,\"The Bronx\"],[22409,0.971,\"The Bronx\"],[64459,0.939,\"The Bronx\"],[44166,0.971,\"The Bronx\"],[38367,0.906,\"The Bronx\"],[28366,0.974,\"The Bronx\"],[38629,0.975,\"The Bronx\"],[26181,0.976,\"The Bronx\"],[33742,0.905,\"The Bronx\"],[27974,0.963,\"The Bronx\"],[42877,0.959,\"The Bronx\"],[41100,0.963,\"The Bronx\"],[52835,0.97,\"The Bronx\"],[54076,0.95,\"The Bronx\"],[28157,0.279,\"The Bronx\"],[40032,0.766,\"The Bronx\"],[30318,0.793,\"The Bronx\"],[27262,0.425,\"The Bronx\"],[28608,0.574,\"The Bronx\"],[45634,0.546,\"The Bronx\"],[36454,0.871,\"The Bronx\"],[55000,0.944,\"The Bronx\"],[31123,0.482,\"The Bronx\"],[57214,0.966,\"The Bronx\"],[50658,0.846,\"The Bronx\"],[28214,0.632,\"The Bronx\"],[38312,0.938,\"The Bronx\"],[35319,0.897,\"The Bronx\"],[28444,0.787,\"The Bronx\"],[67724,0.944,\"The Bronx\"],[44715,0.768,\"The Bronx\"]],\"hovertemplate\":\"<b>%{hovertext}</b><br><br>Share Under 18=%{x}<br>Share BB Adoption=%{y}<br>Total Population=%{customdata[0]}<br>Share Black and/or Hispanic=%{marker.color}<br>Borough=%{customdata[2]}<extra></extra>\",\"hovertext\":[\"Bath Beach\",\"Bay Ridge\",\"Bedford\",\"Bensonhurst East\",\"Bensonhurst West\",\"Borough Park\",\"Brighton Beach\",\"Brooklyn Heights-Cobble Hill\",\"Brownsville\",\"Bushwick North\",\"Bushwick South\",\"Canarsie\",\"Carroll Gardens-Columbia Street-Red Hook\",\"Clinton Hill\",\"Crown Heights North\",\"Crown Heights South\",\"Cypress Hills-City Line\",\"DUMBO-Vinegar Hill-Downtown Brooklyn-Boerum Hill\",\"Dyker Heights\",\"East Flatbush-Farragut\",\"East New York\",\"East New York (Pennsylvania Ave)\",\"East Williamsburg\",\"Erasmus\",\"Flatbush\",\"Flatlands\",\"Fort Greene\",\"Georgetown-Marine Park-Bergen Beach-Mill Basin\",\"Gravesend\",\"Greenpoint\",\"Homecrest\",\"Kensington-Ocean Parkway\",\"Madison\",\"Midwood\",\"North Side-South Side\",\"Ocean Hill\",\"Ocean Parkway South\",\"Park Slope-Gowanus\",\"Prospect Heights\",\"Prospect Lefferts Gardens-Wingate\",\"Rugby-Remsen Village\",\"Seagate-Coney Island\",\"Sheepshead Bay-Gerritsen Beach-Manhattan Beach\",\"Starrett City\",\"Stuyvesant Heights\",\"Sunset Park East\",\"Sunset Park West\",\"West Brighton\",\"Williamsburg\",\"Windsor Terrace\",\"Battery Park City-Lower Manhattan\",\"Central Harlem North-Polo Grounds\",\"Central Harlem South\",\"Chinatown\",\"Clinton\",\"East Harlem North\",\"East Harlem South\",\"East Village\",\"Gramercy\",\"Hamilton Heights\",\"Hudson Yards-Chelsea-Flat Iron-Union Square\",\"Lenox Hill-Roosevelt Island\",\"Lincoln Square\",\"Lower East Side\",\"Manhattanville\",\"Marble Hill-Inwood\",\"Midtown-Midtown South\",\"Morningside Heights\",\"Murray Hill-Kips Bay\",\"SoHo-TriBeCa-Civic Center-Little Italy\",\"Stuyvesant Town-Cooper Village\",\"Turtle Bay-East Midtown\",\"Upper East Side-Carnegie Hill\",\"Upper West Side\",\"Washington Heights North\",\"Washington Heights South\",\"West Village\",\"Yorkville\",\"Astoria\",\"Auburndale\",\"Baisley Park\",\"Bayside-Bayside Hills\",\"Bellerose\",\"Breezy Point-Belle Harbor-Rockaway Park-Broad Channel\",\"Briarwood-Jamaica Hills\",\"Cambria Heights\",\"College Point\",\"Corona\",\"Douglas Manor-Douglaston-Little Neck\",\"East Elmhurst\",\"East Flushing\",\"Elmhurst\",\"Elmhurst-Maspeth\",\"Far Rockaway-Bayswater\",\"Flushing\",\"Forest Hills\",\"Fresh Meadows-Utopia\",\"Ft. Totten-Bay Terrace-Clearview\",\"Glen Oaks-Floral Park-New Hyde Park\",\"Glendale\",\"Hammels-Arverne-Edgemere\",\"Hollis\",\"Hunters Point-Sunnyside-West Maspeth\",\"Jackson Heights\",\"Jamaica\",\"Jamaica Estates-Holliswood\",\"Kew Gardens\",\"Kew Gardens Hills\",\"Laurelton\",\"Lindenwood-Howard Beach\",\"Maspeth\",\"Middle Village\",\"Murray Hill\",\"North Corona\",\"Oakland Gardens\",\"Old Astoria\",\"Ozone Park\",\"Pomonok-Flushing Heights-Hillcrest\",\"Queens Village\",\"Queensboro Hill\",\"Queensbridge-Ravenswood-Long Island City\",\"Rego Park\",\"Richmond Hill\",\"Ridgewood\",\"Rosedale\",\"South Jamaica\",\"South Ozone Park\",\"Springfield Gardens North\",\"Springfield Gardens South-Brookville\",\"St. Albans\",\"Steinway\",\"Whitestone\",\"Woodhaven\",\"Woodside\",\"Annadale-Huguenot-Prince's Bay-Eltingville\",\"Arden Heights\",\"Charleston-Richmond Valley-Tottenville\",\"Grasmere-Arrochar-Ft. Wadsworth\",\"Great Kills\",\"Grymes Hill-Clifton-Fox Hills\",\"Mariner's Harbor-Arlington-Port Ivory-Graniteville\",\"New Brighton-Silver Lake\",\"New Dorp-Midland Beach\",\"New Springville-Bloomfield-Travis\",\"Oakwood-Oakwood Beach\",\"Old Town-Dongan Hills-South Beach\",\"Port Richmond\",\"Rossville-Woodrow\",\"Stapleton-Rosebank\",\"Todt Hill-Emerson Hill-Heartland Village-Lighthouse Hill\",\"West New Brighton-New Brighton-St. George\",\"Westerleigh\",\"Allerton-Pelham Gardens\",\"Bedford Park-Fordham North\",\"Belmont\",\"Bronxdale\",\"Claremont-Bathgate\",\"Co-op City\",\"Crotona Park East\",\"East Concourse-Concourse Village\",\"East Tremont\",\"Eastchester-Edenwald-Baychester\",\"Fordham South\",\"Highbridge\",\"Hunts Point\",\"Kingsbridge Heights\",\"Longwood\",\"Melrose South-Mott Haven North\",\"Morrisania-Melrose\",\"Mott Haven-Port Morris\",\"Mount Hope\",\"North Riverdale-Fieldston-Riverdale\",\"Norwood\",\"Parkchester\",\"Pelham Bay-Country Club-City Island\",\"Pelham Parkway\",\"Schuylerville-Throgs Neck-Edgewater Park\",\"Soundview-Bruckner\",\"Soundview-Castle Hill-Clason Point-Harding Park\",\"Spuyten Duyvil-Kingsbridge\",\"University Heights-Morris Heights\",\"Van Cortlandt Village\",\"Van Nest-Morris Park-Westchester Square\",\"West Concourse\",\"West Farms-Bronx River\",\"Westchester-Unionport\",\"Williamsbridge-Olinville\",\"Woodlawn-Wakefield\"],\"legendgroup\":\"\",\"marker\":{\"color\":[0.189,0.198,0.601,0.131,0.155,0.106,0.122,0.131,0.96,0.766,0.805,0.909,0.298,0.492,0.782,0.682,0.862,0.401,0.12,0.949,0.932,0.963,0.385,0.92,0.641,0.783,0.585,0.234,0.222,0.152,0.11,0.232,0.101,0.126,0.378,0.932,0.093,0.211,0.362,0.807,0.959,0.56,0.16,0.728,0.848,0.334,0.668,0.038,0.118,0.179,0.111,0.857,0.719,0.202,0.251,0.836,0.662,0.159,0.114,0.754,0.197,0.129,0.135,0.506,0.837,0.809,0.124,0.331,0.162,0.09,0.117,0.083,0.08,0.236,0.696,0.829,0.08,0.134,0.306,0.143,0.841,0.15,0.267,0.184,0.386,0.957,0.4,0.777,0.135,0.849,0.208,0.453,0.278,0.681,0.187,0.18,0.155,0.147,0.142,0.357,0.755,0.697,0.361,0.583,0.53,0.381,0.311,0.203,0.95,0.236,0.319,0.187,0.161,0.912,0.107,0.423,0.493,0.321,0.646,0.182,0.594,0.208,0.444,0.497,0.926,0.828,0.442,0.955,0.935,0.942,0.229,0.148,0.575,0.361,0.076,0.142,0.105,0.207,0.09,0.58,0.648,0.386,0.152,0.192,0.147,0.203,0.501,0.094,0.518,0.125,0.661,0.192,0.67,0.884,0.77,0.827,0.979,0.888,0.971,0.939,0.971,0.906,0.974,0.975,0.976,0.905,0.963,0.959,0.963,0.97,0.95,0.279,0.766,0.793,0.425,0.574,0.546,0.871,0.944,0.482,0.966,0.846,0.632,0.938,0.897,0.787,0.944,0.768],\"coloraxis\":\"coloraxis\",\"symbol\":\"circle\"},\"mode\":\"markers\",\"name\":\"\",\"orientation\":\"v\",\"showlegend\":false,\"type\":\"scatter\",\"x\":[0.214,0.191,0.297,0.19899999999999998,0.21,0.39299999999999996,0.185,0.136,0.276,0.228,0.213,0.228,0.203,0.18600000000000003,0.20600000000000002,0.242,0.256,0.177,0.22,0.217,0.275,0.29,0.132,0.248,0.242,0.22899999999999998,0.18100000000000002,0.242,0.214,0.10099999999999999,0.281,0.27699999999999997,0.20800000000000002,0.272,0.17800000000000002,0.278,0.324,0.196,0.161,0.218,0.213,0.235,0.18899999999999997,0.179,0.225,0.262,0.225,0.091,0.479,0.21600000000000003,0.149,0.22,0.207,0.121,0.057999999999999996,0.239,0.18600000000000003,0.051,0.061,0.17600000000000002,0.10400000000000001,0.146,0.13699999999999998,0.154,0.182,0.212,0.071,0.128,0.096,0.153,0.10300000000000001,0.085,0.171,0.158,0.171,0.165,0.08199999999999999,0.129,0.127,0.18600000000000003,0.23600000000000002,0.185,0.21100000000000002,0.221,0.18899999999999997,0.177,0.228,0.261,0.192,0.21600000000000003,0.161,0.196,0.17800000000000002,0.29600000000000004,0.161,0.182,0.182,0.152,0.142,0.204,0.293,0.203,0.162,0.19,0.242,0.201,0.21,0.233,0.207,0.196,0.213,0.185,0.16699999999999998,0.27,0.204,0.166,0.231,0.209,0.19,0.188,0.18600000000000003,0.157,0.233,0.23,0.22699999999999998,0.262,0.21600000000000003,0.21899999999999997,0.244,0.231,0.146,0.20199999999999999,0.23199999999999998,0.19399999999999998,0.207,0.22399999999999998,0.255,0.225,0.204,0.242,0.26,0.243,0.21600000000000003,0.217,0.184,0.193,0.21899999999999997,0.225,0.23199999999999998,0.2,0.272,0.212,0.21,0.268,0.278,0.23,0.345,0.17800000000000002,0.278,0.271,0.294,0.231,0.303,0.307,0.28600000000000003,0.244,0.298,0.317,0.276,0.311,0.27699999999999997,0.19,0.273,0.207,0.171,0.209,0.20600000000000002,0.28,0.24100000000000002,0.198,0.28300000000000003,0.237,0.26,0.275,0.265,0.23800000000000002,0.25,0.20800000000000002],\"xaxis\":\"x\",\"y\":[0.751,0.7424,0.6009,0.7282,0.7177,0.4337,0.6653,0.864,0.5569,0.6088,0.6089,0.7856,0.8068,0.7777,0.6711,0.6807,0.7367,0.8074,0.7519,0.7337,0.6988,0.625,0.7277,0.6354,0.6925,0.7764,0.7789,0.7959,0.7193,0.7565,0.748,0.7349,0.7737,0.6732,0.7637,0.6518,0.6624,0.8596,0.8663,0.6642,0.6704,0.5547,0.7729,0.6269,0.6545,0.644,0.654,0.6682,0.2418,0.8516,0.911,0.6675,0.7333,0.5684,0.7964,0.5858,0.625,0.684,0.8664,0.7633,0.8333,0.8516,0.8663,0.4776,0.6768,0.652,0.8517,0.7519,0.8415,0.8245,0.8444,0.8651,0.8638,0.8166,0.724,0.6704,0.855,0.8504,0.7763,0.7593,0.5861,0.7994,0.7918,0.7306,0.7577,0.7588,0.6219,0.6236,0.8049,0.7284,0.6598,0.6887,0.7587,0.6508,0.4707,0.7698,0.8607,0.7555,0.7549,0.7673,0.6747,0.5873,0.8083,0.7613,0.655,0.7091,0.7344,0.7365,0.5515,0.7658,0.7738,0.7658,0.6118,0.6182,0.7787,0.7619,0.8082,0.703,0.7778,0.6185,0.656,0.7294,0.7496,0.7491,0.7532,0.6551,0.76,0.6197,0.5609,0.5307,0.8008,0.7648,0.7738,0.7471,0.7931,0.812,0.7857,0.7745,0.7913,0.6058,0.6406,0.7351,0.7668,0.7953,0.732,0.7188,0.6708,0.782,0.6903,0.7741,0.6189,0.7822,0.7076,0.6025,0.5908,0.5866,0.5466,0.6598,0.5979,0.5961,0.5407,0.6331,0.5823,0.568,0.5735,0.6115,0.6257,0.5784,0.607,0.5319,0.5672,0.7662,0.631,0.7335,0.7085,0.592,0.6753,0.6035,0.6619,0.7485,0.5884,0.6899,0.5929,0.5969,0.6043,0.6675,0.5898,0.591],\"yaxis\":\"y\"}],                        {\"coloraxis\":{\"colorbar\":{\"title\":{\"text\":\"Share Black and/or Hispanic\"}},\"colorscale\":[[0.0,\"#0d0887\"],[0.1111111111111111,\"#46039f\"],[0.2222222222222222,\"#7201a8\"],[0.3333333333333333,\"#9c179e\"],[0.4444444444444444,\"#bd3786\"],[0.5555555555555556,\"#d8576b\"],[0.6666666666666666,\"#ed7953\"],[0.7777777777777778,\"#fb9f3a\"],[0.8888888888888888,\"#fdca26\"],[1.0,\"#f0f921\"]]},\"legend\":{\"tracegroupgap\":0},\"template\":{\"data\":{\"bar\":[{\"error_x\":{\"color\":\"#f2f5fa\"},\"error_y\":{\"color\":\"#f2f5fa\"},\"marker\":{\"line\":{\"color\":\"rgb(17,17,17)\",\"width\":0.5},\"pattern\":{\"fillmode\":\"overlay\",\"size\":10,\"solidity\":0.2}},\"type\":\"bar\"}],\"barpolar\":[{\"marker\":{\"line\":{\"color\":\"rgb(17,17,17)\",\"width\":0.5},\"pattern\":{\"fillmode\":\"overlay\",\"size\":10,\"solidity\":0.2}},\"type\":\"barpolar\"}],\"carpet\":[{\"aaxis\":{\"endlinecolor\":\"#A2B1C6\",\"gridcolor\":\"#506784\",\"linecolor\":\"#506784\",\"minorgridcolor\":\"#506784\",\"startlinecolor\":\"#A2B1C6\"},\"baxis\":{\"endlinecolor\":\"#A2B1C6\",\"gridcolor\":\"#506784\",\"linecolor\":\"#506784\",\"minorgridcolor\":\"#506784\",\"startlinecolor\":\"#A2B1C6\"},\"type\":\"carpet\"}],\"choropleth\":[{\"colorbar\":{\"outlinewidth\":0,\"ticks\":\"\"},\"type\":\"choropleth\"}],\"contour\":[{\"colorbar\":{\"outlinewidth\":0,\"ticks\":\"\"},\"colorscale\":[[0.0,\"#0d0887\"],[0.1111111111111111,\"#46039f\"],[0.2222222222222222,\"#7201a8\"],[0.3333333333333333,\"#9c179e\"],[0.4444444444444444,\"#bd3786\"],[0.5555555555555556,\"#d8576b\"],[0.6666666666666666,\"#ed7953\"],[0.7777777777777778,\"#fb9f3a\"],[0.8888888888888888,\"#fdca26\"],[1.0,\"#f0f921\"]],\"type\":\"contour\"}],\"contourcarpet\":[{\"colorbar\":{\"outlinewidth\":0,\"ticks\":\"\"},\"type\":\"contourcarpet\"}],\"heatmap\":[{\"colorbar\":{\"outlinewidth\":0,\"ticks\":\"\"},\"colorscale\":[[0.0,\"#0d0887\"],[0.1111111111111111,\"#46039f\"],[0.2222222222222222,\"#7201a8\"],[0.3333333333333333,\"#9c179e\"],[0.4444444444444444,\"#bd3786\"],[0.5555555555555556,\"#d8576b\"],[0.6666666666666666,\"#ed7953\"],[0.7777777777777778,\"#fb9f3a\"],[0.8888888888888888,\"#fdca26\"],[1.0,\"#f0f921\"]],\"type\":\"heatmap\"}],\"heatmapgl\":[{\"colorbar\":{\"outlinewidth\":0,\"ticks\":\"\"},\"colorscale\":[[0.0,\"#0d0887\"],[0.1111111111111111,\"#46039f\"],[0.2222222222222222,\"#7201a8\"],[0.3333333333333333,\"#9c179e\"],[0.4444444444444444,\"#bd3786\"],[0.5555555555555556,\"#d8576b\"],[0.6666666666666666,\"#ed7953\"],[0.7777777777777778,\"#fb9f3a\"],[0.8888888888888888,\"#fdca26\"],[1.0,\"#f0f921\"]],\"type\":\"heatmapgl\"}],\"histogram\":[{\"marker\":{\"pattern\":{\"fillmode\":\"overlay\",\"size\":10,\"solidity\":0.2}},\"type\":\"histogram\"}],\"histogram2d\":[{\"colorbar\":{\"outlinewidth\":0,\"ticks\":\"\"},\"colorscale\":[[0.0,\"#0d0887\"],[0.1111111111111111,\"#46039f\"],[0.2222222222222222,\"#7201a8\"],[0.3333333333333333,\"#9c179e\"],[0.4444444444444444,\"#bd3786\"],[0.5555555555555556,\"#d8576b\"],[0.6666666666666666,\"#ed7953\"],[0.7777777777777778,\"#fb9f3a\"],[0.8888888888888888,\"#fdca26\"],[1.0,\"#f0f921\"]],\"type\":\"histogram2d\"}],\"histogram2dcontour\":[{\"colorbar\":{\"outlinewidth\":0,\"ticks\":\"\"},\"colorscale\":[[0.0,\"#0d0887\"],[0.1111111111111111,\"#46039f\"],[0.2222222222222222,\"#7201a8\"],[0.3333333333333333,\"#9c179e\"],[0.4444444444444444,\"#bd3786\"],[0.5555555555555556,\"#d8576b\"],[0.6666666666666666,\"#ed7953\"],[0.7777777777777778,\"#fb9f3a\"],[0.8888888888888888,\"#fdca26\"],[1.0,\"#f0f921\"]],\"type\":\"histogram2dcontour\"}],\"mesh3d\":[{\"colorbar\":{\"outlinewidth\":0,\"ticks\":\"\"},\"type\":\"mesh3d\"}],\"parcoords\":[{\"line\":{\"colorbar\":{\"outlinewidth\":0,\"ticks\":\"\"}},\"type\":\"parcoords\"}],\"pie\":[{\"automargin\":true,\"type\":\"pie\"}],\"scatter\":[{\"marker\":{\"line\":{\"color\":\"#283442\"}},\"type\":\"scatter\"}],\"scatter3d\":[{\"line\":{\"colorbar\":{\"outlinewidth\":0,\"ticks\":\"\"}},\"marker\":{\"colorbar\":{\"outlinewidth\":0,\"ticks\":\"\"}},\"type\":\"scatter3d\"}],\"scattercarpet\":[{\"marker\":{\"colorbar\":{\"outlinewidth\":0,\"ticks\":\"\"}},\"type\":\"scattercarpet\"}],\"scattergeo\":[{\"marker\":{\"colorbar\":{\"outlinewidth\":0,\"ticks\":\"\"}},\"type\":\"scattergeo\"}],\"scattergl\":[{\"marker\":{\"line\":{\"color\":\"#283442\"}},\"type\":\"scattergl\"}],\"scattermapbox\":[{\"marker\":{\"colorbar\":{\"outlinewidth\":0,\"ticks\":\"\"}},\"type\":\"scattermapbox\"}],\"scatterpolar\":[{\"marker\":{\"colorbar\":{\"outlinewidth\":0,\"ticks\":\"\"}},\"type\":\"scatterpolar\"}],\"scatterpolargl\":[{\"marker\":{\"colorbar\":{\"outlinewidth\":0,\"ticks\":\"\"}},\"type\":\"scatterpolargl\"}],\"scatterternary\":[{\"marker\":{\"colorbar\":{\"outlinewidth\":0,\"ticks\":\"\"}},\"type\":\"scatterternary\"}],\"surface\":[{\"colorbar\":{\"outlinewidth\":0,\"ticks\":\"\"},\"colorscale\":[[0.0,\"#0d0887\"],[0.1111111111111111,\"#46039f\"],[0.2222222222222222,\"#7201a8\"],[0.3333333333333333,\"#9c179e\"],[0.4444444444444444,\"#bd3786\"],[0.5555555555555556,\"#d8576b\"],[0.6666666666666666,\"#ed7953\"],[0.7777777777777778,\"#fb9f3a\"],[0.8888888888888888,\"#fdca26\"],[1.0,\"#f0f921\"]],\"type\":\"surface\"}],\"table\":[{\"cells\":{\"fill\":{\"color\":\"#506784\"},\"line\":{\"color\":\"rgb(17,17,17)\"}},\"header\":{\"fill\":{\"color\":\"#2a3f5f\"},\"line\":{\"color\":\"rgb(17,17,17)\"}},\"type\":\"table\"}]},\"layout\":{\"annotationdefaults\":{\"arrowcolor\":\"#f2f5fa\",\"arrowhead\":0,\"arrowwidth\":1},\"autotypenumbers\":\"strict\",\"coloraxis\":{\"colorbar\":{\"outlinewidth\":0,\"ticks\":\"\"}},\"colorscale\":{\"diverging\":[[0,\"#8e0152\"],[0.1,\"#c51b7d\"],[0.2,\"#de77ae\"],[0.3,\"#f1b6da\"],[0.4,\"#fde0ef\"],[0.5,\"#f7f7f7\"],[0.6,\"#e6f5d0\"],[0.7,\"#b8e186\"],[0.8,\"#7fbc41\"],[0.9,\"#4d9221\"],[1,\"#276419\"]],\"sequential\":[[0.0,\"#0d0887\"],[0.1111111111111111,\"#46039f\"],[0.2222222222222222,\"#7201a8\"],[0.3333333333333333,\"#9c179e\"],[0.4444444444444444,\"#bd3786\"],[0.5555555555555556,\"#d8576b\"],[0.6666666666666666,\"#ed7953\"],[0.7777777777777778,\"#fb9f3a\"],[0.8888888888888888,\"#fdca26\"],[1.0,\"#f0f921\"]],\"sequentialminus\":[[0.0,\"#0d0887\"],[0.1111111111111111,\"#46039f\"],[0.2222222222222222,\"#7201a8\"],[0.3333333333333333,\"#9c179e\"],[0.4444444444444444,\"#bd3786\"],[0.5555555555555556,\"#d8576b\"],[0.6666666666666666,\"#ed7953\"],[0.7777777777777778,\"#fb9f3a\"],[0.8888888888888888,\"#fdca26\"],[1.0,\"#f0f921\"]]},\"colorway\":[\"#636efa\",\"#EF553B\",\"#00cc96\",\"#ab63fa\",\"#FFA15A\",\"#19d3f3\",\"#FF6692\",\"#B6E880\",\"#FF97FF\",\"#FECB52\"],\"font\":{\"color\":\"#f2f5fa\"},\"geo\":{\"bgcolor\":\"rgb(17,17,17)\",\"lakecolor\":\"rgb(17,17,17)\",\"landcolor\":\"rgb(17,17,17)\",\"showlakes\":true,\"showland\":true,\"subunitcolor\":\"#506784\"},\"hoverlabel\":{\"align\":\"left\"},\"hovermode\":\"closest\",\"mapbox\":{\"style\":\"dark\"},\"paper_bgcolor\":\"rgb(17,17,17)\",\"plot_bgcolor\":\"rgb(17,17,17)\",\"polar\":{\"angularaxis\":{\"gridcolor\":\"#506784\",\"linecolor\":\"#506784\",\"ticks\":\"\"},\"bgcolor\":\"rgb(17,17,17)\",\"radialaxis\":{\"gridcolor\":\"#506784\",\"linecolor\":\"#506784\",\"ticks\":\"\"}},\"scene\":{\"xaxis\":{\"backgroundcolor\":\"rgb(17,17,17)\",\"gridcolor\":\"#506784\",\"gridwidth\":2,\"linecolor\":\"#506784\",\"showbackground\":true,\"ticks\":\"\",\"zerolinecolor\":\"#C8D4E3\"},\"yaxis\":{\"backgroundcolor\":\"rgb(17,17,17)\",\"gridcolor\":\"#506784\",\"gridwidth\":2,\"linecolor\":\"#506784\",\"showbackground\":true,\"ticks\":\"\",\"zerolinecolor\":\"#C8D4E3\"},\"zaxis\":{\"backgroundcolor\":\"rgb(17,17,17)\",\"gridcolor\":\"#506784\",\"gridwidth\":2,\"linecolor\":\"#506784\",\"showbackground\":true,\"ticks\":\"\",\"zerolinecolor\":\"#C8D4E3\"}},\"shapedefaults\":{\"line\":{\"color\":\"#f2f5fa\"}},\"sliderdefaults\":{\"bgcolor\":\"#C8D4E3\",\"bordercolor\":\"rgb(17,17,17)\",\"borderwidth\":1,\"tickwidth\":0},\"ternary\":{\"aaxis\":{\"gridcolor\":\"#506784\",\"linecolor\":\"#506784\",\"ticks\":\"\"},\"baxis\":{\"gridcolor\":\"#506784\",\"linecolor\":\"#506784\",\"ticks\":\"\"},\"bgcolor\":\"rgb(17,17,17)\",\"caxis\":{\"gridcolor\":\"#506784\",\"linecolor\":\"#506784\",\"ticks\":\"\"}},\"title\":{\"x\":0.05},\"updatemenudefaults\":{\"bgcolor\":\"#506784\",\"borderwidth\":0},\"xaxis\":{\"automargin\":true,\"gridcolor\":\"#283442\",\"linecolor\":\"#506784\",\"ticks\":\"\",\"title\":{\"standoff\":15},\"zerolinecolor\":\"#283442\",\"zerolinewidth\":2},\"yaxis\":{\"automargin\":true,\"gridcolor\":\"#283442\",\"linecolor\":\"#506784\",\"ticks\":\"\",\"title\":{\"standoff\":15},\"zerolinecolor\":\"#283442\",\"zerolinewidth\":2}}},\"title\":{\"text\":\"Share BB Adoption by Share Under 18\"},\"xaxis\":{\"anchor\":\"y\",\"domain\":[0.0,1.0],\"title\":{\"text\":\"Share Under 18\"}},\"yaxis\":{\"anchor\":\"x\",\"domain\":[0.0,1.0],\"title\":{\"text\":\"Share BB Adoption\"}}},                        {\"responsive\": true}                    ).then(function(){\n",
       "                            \n",
       "var gd = document.getElementById('27959a79-e182-4dfb-a08f-70443b86670a');\n",
       "var x = new MutationObserver(function (mutations, observer) {{\n",
       "        var display = window.getComputedStyle(gd).display;\n",
       "        if (!display || display === 'none') {{\n",
       "            console.log([gd, 'removed!']);\n",
       "            Plotly.purge(gd);\n",
       "            observer.disconnect();\n",
       "        }}\n",
       "}});\n",
       "\n",
       "// Listen for the removal of the full notebook cells\n",
       "var notebookContainer = gd.closest('#notebook-container');\n",
       "if (notebookContainer) {{\n",
       "    x.observe(notebookContainer, {childList: true});\n",
       "}}\n",
       "\n",
       "// Listen for the clearing of the current output cell\n",
       "var outputEl = gd.closest('.output');\n",
       "if (outputEl) {{\n",
       "    x.observe(outputEl, {childList: true});\n",
       "}}\n",
       "\n",
       "                        })                };                });            </script>        </div>"
      ]
     },
     "metadata": {},
     "output_type": "display_data"
    }
   ],
   "source": [
    "plot_cols(\n",
    "    data=data,\n",
    "    x='Share Under 18',\n",
    "    y='Share BB Adoption',\n",
    "    color='Share Black and/or Hispanic',\n",
    "    size=None\n",
    ")"
   ]
  },
  {
   "cell_type": "code",
   "execution_count": null,
   "id": "moving-forth",
   "metadata": {},
   "outputs": [],
   "source": []
  }
 ],
 "metadata": {
  "kernelspec": {
   "display_name": "eda_env",
   "language": "python",
   "name": "eda_env"
  },
  "language_info": {
   "codemirror_mode": {
    "name": "ipython",
    "version": 3
   },
   "file_extension": ".py",
   "mimetype": "text/x-python",
   "name": "python",
   "nbconvert_exporter": "python",
   "pygments_lexer": "ipython3",
   "version": "3.9.1"
  },
  "toc": {
   "base_numbering": 1,
   "nav_menu": {},
   "number_sections": false,
   "sideBar": true,
   "skip_h1_title": false,
   "title_cell": "Table of Contents",
   "title_sidebar": "Contents",
   "toc_cell": false,
   "toc_position": {},
   "toc_section_display": true,
   "toc_window_display": true
  }
 },
 "nbformat": 4,
 "nbformat_minor": 5
}
